{
  "cells": [
    {
      "cell_type": "code",
      "execution_count": 1,
      "metadata": {
        "id": "emIuq7ERIvYT"
      },
      "outputs": [],
      "source": [
        "import warnings\n",
        "\n",
        "with warnings.catch_warnings():\n",
        "    warnings.filterwarnings('ignore')"
      ]
    },
    {
      "cell_type": "code",
      "execution_count": 2,
      "metadata": {
        "id": "0ny4FlrQI10k"
      },
      "outputs": [],
      "source": [
        "import pandas as pd\n",
        "from sklearn.model_selection import train_test_split\n",
        "from sklearn.preprocessing import StandardScaler\n",
        "import numpy as np"
      ]
    },
    {
      "cell_type": "markdown",
      "metadata": {
        "id": "4tQ2y3bmsowU"
      },
      "source": [
        "# task a"
      ]
    },
    {
      "cell_type": "code",
      "execution_count": null,
      "metadata": {
        "colab": {
          "base_uri": "https://localhost:8080/",
          "height": 206
        },
        "id": "YRCk4LP6MdCT",
        "outputId": "b1ad09fd-669a-4971-fe5d-2f9490f61ca6"
      },
      "outputs": [
        {
          "data": {
            "text/html": [
              "\n",
              "  <div id=\"df-7d5de587-a90f-4361-a49f-b32bf1507a63\" class=\"colab-df-container\">\n",
              "    <div>\n",
              "<style scoped>\n",
              "    .dataframe tbody tr th:only-of-type {\n",
              "        vertical-align: middle;\n",
              "    }\n",
              "\n",
              "    .dataframe tbody tr th {\n",
              "        vertical-align: top;\n",
              "    }\n",
              "\n",
              "    .dataframe thead th {\n",
              "        text-align: right;\n",
              "    }\n",
              "</style>\n",
              "<table border=\"1\" class=\"dataframe\">\n",
              "  <thead>\n",
              "    <tr style=\"text-align: right;\">\n",
              "      <th></th>\n",
              "      <th>DATE</th>\n",
              "      <th>S4248SM144NCEN</th>\n",
              "    </tr>\n",
              "  </thead>\n",
              "  <tbody>\n",
              "    <tr>\n",
              "      <th>0</th>\n",
              "      <td>1992-01-01</td>\n",
              "      <td>3459</td>\n",
              "    </tr>\n",
              "    <tr>\n",
              "      <th>1</th>\n",
              "      <td>1992-02-01</td>\n",
              "      <td>3458</td>\n",
              "    </tr>\n",
              "    <tr>\n",
              "      <th>2</th>\n",
              "      <td>1992-03-01</td>\n",
              "      <td>4002</td>\n",
              "    </tr>\n",
              "    <tr>\n",
              "      <th>3</th>\n",
              "      <td>1992-04-01</td>\n",
              "      <td>4564</td>\n",
              "    </tr>\n",
              "    <tr>\n",
              "      <th>4</th>\n",
              "      <td>1992-05-01</td>\n",
              "      <td>4221</td>\n",
              "    </tr>\n",
              "  </tbody>\n",
              "</table>\n",
              "</div>\n",
              "    <div class=\"colab-df-buttons\">\n",
              "\n",
              "  <div class=\"colab-df-container\">\n",
              "    <button class=\"colab-df-convert\" onclick=\"convertToInteractive('df-7d5de587-a90f-4361-a49f-b32bf1507a63')\"\n",
              "            title=\"Convert this dataframe to an interactive table.\"\n",
              "            style=\"display:none;\">\n",
              "\n",
              "  <svg xmlns=\"http://www.w3.org/2000/svg\" height=\"24px\" viewBox=\"0 -960 960 960\">\n",
              "    <path d=\"M120-120v-720h720v720H120Zm60-500h600v-160H180v160Zm220 220h160v-160H400v160Zm0 220h160v-160H400v160ZM180-400h160v-160H180v160Zm440 0h160v-160H620v160ZM180-180h160v-160H180v160Zm440 0h160v-160H620v160Z\"/>\n",
              "  </svg>\n",
              "    </button>\n",
              "\n",
              "  <style>\n",
              "    .colab-df-container {\n",
              "      display:flex;\n",
              "      gap: 12px;\n",
              "    }\n",
              "\n",
              "    .colab-df-convert {\n",
              "      background-color: #E8F0FE;\n",
              "      border: none;\n",
              "      border-radius: 50%;\n",
              "      cursor: pointer;\n",
              "      display: none;\n",
              "      fill: #1967D2;\n",
              "      height: 32px;\n",
              "      padding: 0 0 0 0;\n",
              "      width: 32px;\n",
              "    }\n",
              "\n",
              "    .colab-df-convert:hover {\n",
              "      background-color: #E2EBFA;\n",
              "      box-shadow: 0px 1px 2px rgba(60, 64, 67, 0.3), 0px 1px 3px 1px rgba(60, 64, 67, 0.15);\n",
              "      fill: #174EA6;\n",
              "    }\n",
              "\n",
              "    .colab-df-buttons div {\n",
              "      margin-bottom: 4px;\n",
              "    }\n",
              "\n",
              "    [theme=dark] .colab-df-convert {\n",
              "      background-color: #3B4455;\n",
              "      fill: #D2E3FC;\n",
              "    }\n",
              "\n",
              "    [theme=dark] .colab-df-convert:hover {\n",
              "      background-color: #434B5C;\n",
              "      box-shadow: 0px 1px 3px 1px rgba(0, 0, 0, 0.15);\n",
              "      filter: drop-shadow(0px 1px 2px rgba(0, 0, 0, 0.3));\n",
              "      fill: #FFFFFF;\n",
              "    }\n",
              "  </style>\n",
              "\n",
              "    <script>\n",
              "      const buttonEl =\n",
              "        document.querySelector('#df-7d5de587-a90f-4361-a49f-b32bf1507a63 button.colab-df-convert');\n",
              "      buttonEl.style.display =\n",
              "        google.colab.kernel.accessAllowed ? 'block' : 'none';\n",
              "\n",
              "      async function convertToInteractive(key) {\n",
              "        const element = document.querySelector('#df-7d5de587-a90f-4361-a49f-b32bf1507a63');\n",
              "        const dataTable =\n",
              "          await google.colab.kernel.invokeFunction('convertToInteractive',\n",
              "                                                    [key], {});\n",
              "        if (!dataTable) return;\n",
              "\n",
              "        const docLinkHtml = 'Like what you see? Visit the ' +\n",
              "          '<a target=\"_blank\" href=https://colab.research.google.com/notebooks/data_table.ipynb>data table notebook</a>'\n",
              "          + ' to learn more about interactive tables.';\n",
              "        element.innerHTML = '';\n",
              "        dataTable['output_type'] = 'display_data';\n",
              "        await google.colab.output.renderOutput(dataTable, element);\n",
              "        const docLink = document.createElement('div');\n",
              "        docLink.innerHTML = docLinkHtml;\n",
              "        element.appendChild(docLink);\n",
              "      }\n",
              "    </script>\n",
              "  </div>\n",
              "\n",
              "\n",
              "<div id=\"df-bd9c25c4-b74c-4ce5-aba4-8507271427ac\">\n",
              "  <button class=\"colab-df-quickchart\" onclick=\"quickchart('df-bd9c25c4-b74c-4ce5-aba4-8507271427ac')\"\n",
              "            title=\"Suggest charts.\"\n",
              "            style=\"display:none;\">\n",
              "\n",
              "<svg xmlns=\"http://www.w3.org/2000/svg\" height=\"24px\"viewBox=\"0 0 24 24\"\n",
              "     width=\"24px\">\n",
              "    <g>\n",
              "        <path d=\"M19 3H5c-1.1 0-2 .9-2 2v14c0 1.1.9 2 2 2h14c1.1 0 2-.9 2-2V5c0-1.1-.9-2-2-2zM9 17H7v-7h2v7zm4 0h-2V7h2v10zm4 0h-2v-4h2v4z\"/>\n",
              "    </g>\n",
              "</svg>\n",
              "  </button>\n",
              "\n",
              "<style>\n",
              "  .colab-df-quickchart {\n",
              "      --bg-color: #E8F0FE;\n",
              "      --fill-color: #1967D2;\n",
              "      --hover-bg-color: #E2EBFA;\n",
              "      --hover-fill-color: #174EA6;\n",
              "      --disabled-fill-color: #AAA;\n",
              "      --disabled-bg-color: #DDD;\n",
              "  }\n",
              "\n",
              "  [theme=dark] .colab-df-quickchart {\n",
              "      --bg-color: #3B4455;\n",
              "      --fill-color: #D2E3FC;\n",
              "      --hover-bg-color: #434B5C;\n",
              "      --hover-fill-color: #FFFFFF;\n",
              "      --disabled-bg-color: #3B4455;\n",
              "      --disabled-fill-color: #666;\n",
              "  }\n",
              "\n",
              "  .colab-df-quickchart {\n",
              "    background-color: var(--bg-color);\n",
              "    border: none;\n",
              "    border-radius: 50%;\n",
              "    cursor: pointer;\n",
              "    display: none;\n",
              "    fill: var(--fill-color);\n",
              "    height: 32px;\n",
              "    padding: 0;\n",
              "    width: 32px;\n",
              "  }\n",
              "\n",
              "  .colab-df-quickchart:hover {\n",
              "    background-color: var(--hover-bg-color);\n",
              "    box-shadow: 0 1px 2px rgba(60, 64, 67, 0.3), 0 1px 3px 1px rgba(60, 64, 67, 0.15);\n",
              "    fill: var(--button-hover-fill-color);\n",
              "  }\n",
              "\n",
              "  .colab-df-quickchart-complete:disabled,\n",
              "  .colab-df-quickchart-complete:disabled:hover {\n",
              "    background-color: var(--disabled-bg-color);\n",
              "    fill: var(--disabled-fill-color);\n",
              "    box-shadow: none;\n",
              "  }\n",
              "\n",
              "  .colab-df-spinner {\n",
              "    border: 2px solid var(--fill-color);\n",
              "    border-color: transparent;\n",
              "    border-bottom-color: var(--fill-color);\n",
              "    animation:\n",
              "      spin 1s steps(1) infinite;\n",
              "  }\n",
              "\n",
              "  @keyframes spin {\n",
              "    0% {\n",
              "      border-color: transparent;\n",
              "      border-bottom-color: var(--fill-color);\n",
              "      border-left-color: var(--fill-color);\n",
              "    }\n",
              "    20% {\n",
              "      border-color: transparent;\n",
              "      border-left-color: var(--fill-color);\n",
              "      border-top-color: var(--fill-color);\n",
              "    }\n",
              "    30% {\n",
              "      border-color: transparent;\n",
              "      border-left-color: var(--fill-color);\n",
              "      border-top-color: var(--fill-color);\n",
              "      border-right-color: var(--fill-color);\n",
              "    }\n",
              "    40% {\n",
              "      border-color: transparent;\n",
              "      border-right-color: var(--fill-color);\n",
              "      border-top-color: var(--fill-color);\n",
              "    }\n",
              "    60% {\n",
              "      border-color: transparent;\n",
              "      border-right-color: var(--fill-color);\n",
              "    }\n",
              "    80% {\n",
              "      border-color: transparent;\n",
              "      border-right-color: var(--fill-color);\n",
              "      border-bottom-color: var(--fill-color);\n",
              "    }\n",
              "    90% {\n",
              "      border-color: transparent;\n",
              "      border-bottom-color: var(--fill-color);\n",
              "    }\n",
              "  }\n",
              "</style>\n",
              "\n",
              "  <script>\n",
              "    async function quickchart(key) {\n",
              "      const quickchartButtonEl =\n",
              "        document.querySelector('#' + key + ' button');\n",
              "      quickchartButtonEl.disabled = true;  // To prevent multiple clicks.\n",
              "      quickchartButtonEl.classList.add('colab-df-spinner');\n",
              "      try {\n",
              "        const charts = await google.colab.kernel.invokeFunction(\n",
              "            'suggestCharts', [key], {});\n",
              "      } catch (error) {\n",
              "        console.error('Error during call to suggestCharts:', error);\n",
              "      }\n",
              "      quickchartButtonEl.classList.remove('colab-df-spinner');\n",
              "      quickchartButtonEl.classList.add('colab-df-quickchart-complete');\n",
              "    }\n",
              "    (() => {\n",
              "      let quickchartButtonEl =\n",
              "        document.querySelector('#df-bd9c25c4-b74c-4ce5-aba4-8507271427ac button');\n",
              "      quickchartButtonEl.style.display =\n",
              "        google.colab.kernel.accessAllowed ? 'block' : 'none';\n",
              "    })();\n",
              "  </script>\n",
              "</div>\n",
              "    </div>\n",
              "  </div>\n"
            ],
            "text/plain": [
              "         DATE  S4248SM144NCEN\n",
              "0  1992-01-01            3459\n",
              "1  1992-02-01            3458\n",
              "2  1992-03-01            4002\n",
              "3  1992-04-01            4564\n",
              "4  1992-05-01            4221"
            ]
          },
          "execution_count": 7,
          "metadata": {},
          "output_type": "execute_result"
        }
      ],
      "source": [
        "df_sales = pd.read_csv(\"/content/Alcohol_Sales.csv\")\n",
        "df_sales.head()"
      ]
    },
    {
      "cell_type": "code",
      "execution_count": null,
      "metadata": {
        "colab": {
          "base_uri": "https://localhost:8080/"
        },
        "id": "tSxTv9jiMnKD",
        "outputId": "fb378a2b-9de7-4683-bd82-80d7676132f9"
      },
      "outputs": [
        {
          "data": {
            "text/plain": [
              "(325, 2)"
            ]
          },
          "execution_count": 8,
          "metadata": {},
          "output_type": "execute_result"
        }
      ],
      "source": [
        "df_sales.shape"
      ]
    },
    {
      "cell_type": "code",
      "execution_count": null,
      "metadata": {
        "id": "WIjYsd0XMy7Y"
      },
      "outputs": [],
      "source": [
        "df_sales.columns = [\"DATE\", \"SALES\"]"
      ]
    },
    {
      "cell_type": "code",
      "execution_count": null,
      "metadata": {
        "colab": {
          "base_uri": "https://localhost:8080/",
          "height": 206
        },
        "id": "JIIESm7gM_vI",
        "outputId": "148ca5ff-cc12-4906-f26d-8c1f340cd106"
      },
      "outputs": [
        {
          "data": {
            "text/html": [
              "\n",
              "  <div id=\"df-639f0d08-b947-43a8-9533-34352480e4cf\" class=\"colab-df-container\">\n",
              "    <div>\n",
              "<style scoped>\n",
              "    .dataframe tbody tr th:only-of-type {\n",
              "        vertical-align: middle;\n",
              "    }\n",
              "\n",
              "    .dataframe tbody tr th {\n",
              "        vertical-align: top;\n",
              "    }\n",
              "\n",
              "    .dataframe thead th {\n",
              "        text-align: right;\n",
              "    }\n",
              "</style>\n",
              "<table border=\"1\" class=\"dataframe\">\n",
              "  <thead>\n",
              "    <tr style=\"text-align: right;\">\n",
              "      <th></th>\n",
              "      <th>DATE</th>\n",
              "      <th>SALES</th>\n",
              "    </tr>\n",
              "  </thead>\n",
              "  <tbody>\n",
              "    <tr>\n",
              "      <th>0</th>\n",
              "      <td>1992-01-01</td>\n",
              "      <td>3459</td>\n",
              "    </tr>\n",
              "    <tr>\n",
              "      <th>1</th>\n",
              "      <td>1992-02-01</td>\n",
              "      <td>3458</td>\n",
              "    </tr>\n",
              "    <tr>\n",
              "      <th>2</th>\n",
              "      <td>1992-03-01</td>\n",
              "      <td>4002</td>\n",
              "    </tr>\n",
              "    <tr>\n",
              "      <th>3</th>\n",
              "      <td>1992-04-01</td>\n",
              "      <td>4564</td>\n",
              "    </tr>\n",
              "    <tr>\n",
              "      <th>4</th>\n",
              "      <td>1992-05-01</td>\n",
              "      <td>4221</td>\n",
              "    </tr>\n",
              "  </tbody>\n",
              "</table>\n",
              "</div>\n",
              "    <div class=\"colab-df-buttons\">\n",
              "\n",
              "  <div class=\"colab-df-container\">\n",
              "    <button class=\"colab-df-convert\" onclick=\"convertToInteractive('df-639f0d08-b947-43a8-9533-34352480e4cf')\"\n",
              "            title=\"Convert this dataframe to an interactive table.\"\n",
              "            style=\"display:none;\">\n",
              "\n",
              "  <svg xmlns=\"http://www.w3.org/2000/svg\" height=\"24px\" viewBox=\"0 -960 960 960\">\n",
              "    <path d=\"M120-120v-720h720v720H120Zm60-500h600v-160H180v160Zm220 220h160v-160H400v160Zm0 220h160v-160H400v160ZM180-400h160v-160H180v160Zm440 0h160v-160H620v160ZM180-180h160v-160H180v160Zm440 0h160v-160H620v160Z\"/>\n",
              "  </svg>\n",
              "    </button>\n",
              "\n",
              "  <style>\n",
              "    .colab-df-container {\n",
              "      display:flex;\n",
              "      gap: 12px;\n",
              "    }\n",
              "\n",
              "    .colab-df-convert {\n",
              "      background-color: #E8F0FE;\n",
              "      border: none;\n",
              "      border-radius: 50%;\n",
              "      cursor: pointer;\n",
              "      display: none;\n",
              "      fill: #1967D2;\n",
              "      height: 32px;\n",
              "      padding: 0 0 0 0;\n",
              "      width: 32px;\n",
              "    }\n",
              "\n",
              "    .colab-df-convert:hover {\n",
              "      background-color: #E2EBFA;\n",
              "      box-shadow: 0px 1px 2px rgba(60, 64, 67, 0.3), 0px 1px 3px 1px rgba(60, 64, 67, 0.15);\n",
              "      fill: #174EA6;\n",
              "    }\n",
              "\n",
              "    .colab-df-buttons div {\n",
              "      margin-bottom: 4px;\n",
              "    }\n",
              "\n",
              "    [theme=dark] .colab-df-convert {\n",
              "      background-color: #3B4455;\n",
              "      fill: #D2E3FC;\n",
              "    }\n",
              "\n",
              "    [theme=dark] .colab-df-convert:hover {\n",
              "      background-color: #434B5C;\n",
              "      box-shadow: 0px 1px 3px 1px rgba(0, 0, 0, 0.15);\n",
              "      filter: drop-shadow(0px 1px 2px rgba(0, 0, 0, 0.3));\n",
              "      fill: #FFFFFF;\n",
              "    }\n",
              "  </style>\n",
              "\n",
              "    <script>\n",
              "      const buttonEl =\n",
              "        document.querySelector('#df-639f0d08-b947-43a8-9533-34352480e4cf button.colab-df-convert');\n",
              "      buttonEl.style.display =\n",
              "        google.colab.kernel.accessAllowed ? 'block' : 'none';\n",
              "\n",
              "      async function convertToInteractive(key) {\n",
              "        const element = document.querySelector('#df-639f0d08-b947-43a8-9533-34352480e4cf');\n",
              "        const dataTable =\n",
              "          await google.colab.kernel.invokeFunction('convertToInteractive',\n",
              "                                                    [key], {});\n",
              "        if (!dataTable) return;\n",
              "\n",
              "        const docLinkHtml = 'Like what you see? Visit the ' +\n",
              "          '<a target=\"_blank\" href=https://colab.research.google.com/notebooks/data_table.ipynb>data table notebook</a>'\n",
              "          + ' to learn more about interactive tables.';\n",
              "        element.innerHTML = '';\n",
              "        dataTable['output_type'] = 'display_data';\n",
              "        await google.colab.output.renderOutput(dataTable, element);\n",
              "        const docLink = document.createElement('div');\n",
              "        docLink.innerHTML = docLinkHtml;\n",
              "        element.appendChild(docLink);\n",
              "      }\n",
              "    </script>\n",
              "  </div>\n",
              "\n",
              "\n",
              "<div id=\"df-efa48415-8fe1-48e2-a62b-23269d08e2cf\">\n",
              "  <button class=\"colab-df-quickchart\" onclick=\"quickchart('df-efa48415-8fe1-48e2-a62b-23269d08e2cf')\"\n",
              "            title=\"Suggest charts.\"\n",
              "            style=\"display:none;\">\n",
              "\n",
              "<svg xmlns=\"http://www.w3.org/2000/svg\" height=\"24px\"viewBox=\"0 0 24 24\"\n",
              "     width=\"24px\">\n",
              "    <g>\n",
              "        <path d=\"M19 3H5c-1.1 0-2 .9-2 2v14c0 1.1.9 2 2 2h14c1.1 0 2-.9 2-2V5c0-1.1-.9-2-2-2zM9 17H7v-7h2v7zm4 0h-2V7h2v10zm4 0h-2v-4h2v4z\"/>\n",
              "    </g>\n",
              "</svg>\n",
              "  </button>\n",
              "\n",
              "<style>\n",
              "  .colab-df-quickchart {\n",
              "      --bg-color: #E8F0FE;\n",
              "      --fill-color: #1967D2;\n",
              "      --hover-bg-color: #E2EBFA;\n",
              "      --hover-fill-color: #174EA6;\n",
              "      --disabled-fill-color: #AAA;\n",
              "      --disabled-bg-color: #DDD;\n",
              "  }\n",
              "\n",
              "  [theme=dark] .colab-df-quickchart {\n",
              "      --bg-color: #3B4455;\n",
              "      --fill-color: #D2E3FC;\n",
              "      --hover-bg-color: #434B5C;\n",
              "      --hover-fill-color: #FFFFFF;\n",
              "      --disabled-bg-color: #3B4455;\n",
              "      --disabled-fill-color: #666;\n",
              "  }\n",
              "\n",
              "  .colab-df-quickchart {\n",
              "    background-color: var(--bg-color);\n",
              "    border: none;\n",
              "    border-radius: 50%;\n",
              "    cursor: pointer;\n",
              "    display: none;\n",
              "    fill: var(--fill-color);\n",
              "    height: 32px;\n",
              "    padding: 0;\n",
              "    width: 32px;\n",
              "  }\n",
              "\n",
              "  .colab-df-quickchart:hover {\n",
              "    background-color: var(--hover-bg-color);\n",
              "    box-shadow: 0 1px 2px rgba(60, 64, 67, 0.3), 0 1px 3px 1px rgba(60, 64, 67, 0.15);\n",
              "    fill: var(--button-hover-fill-color);\n",
              "  }\n",
              "\n",
              "  .colab-df-quickchart-complete:disabled,\n",
              "  .colab-df-quickchart-complete:disabled:hover {\n",
              "    background-color: var(--disabled-bg-color);\n",
              "    fill: var(--disabled-fill-color);\n",
              "    box-shadow: none;\n",
              "  }\n",
              "\n",
              "  .colab-df-spinner {\n",
              "    border: 2px solid var(--fill-color);\n",
              "    border-color: transparent;\n",
              "    border-bottom-color: var(--fill-color);\n",
              "    animation:\n",
              "      spin 1s steps(1) infinite;\n",
              "  }\n",
              "\n",
              "  @keyframes spin {\n",
              "    0% {\n",
              "      border-color: transparent;\n",
              "      border-bottom-color: var(--fill-color);\n",
              "      border-left-color: var(--fill-color);\n",
              "    }\n",
              "    20% {\n",
              "      border-color: transparent;\n",
              "      border-left-color: var(--fill-color);\n",
              "      border-top-color: var(--fill-color);\n",
              "    }\n",
              "    30% {\n",
              "      border-color: transparent;\n",
              "      border-left-color: var(--fill-color);\n",
              "      border-top-color: var(--fill-color);\n",
              "      border-right-color: var(--fill-color);\n",
              "    }\n",
              "    40% {\n",
              "      border-color: transparent;\n",
              "      border-right-color: var(--fill-color);\n",
              "      border-top-color: var(--fill-color);\n",
              "    }\n",
              "    60% {\n",
              "      border-color: transparent;\n",
              "      border-right-color: var(--fill-color);\n",
              "    }\n",
              "    80% {\n",
              "      border-color: transparent;\n",
              "      border-right-color: var(--fill-color);\n",
              "      border-bottom-color: var(--fill-color);\n",
              "    }\n",
              "    90% {\n",
              "      border-color: transparent;\n",
              "      border-bottom-color: var(--fill-color);\n",
              "    }\n",
              "  }\n",
              "</style>\n",
              "\n",
              "  <script>\n",
              "    async function quickchart(key) {\n",
              "      const quickchartButtonEl =\n",
              "        document.querySelector('#' + key + ' button');\n",
              "      quickchartButtonEl.disabled = true;  // To prevent multiple clicks.\n",
              "      quickchartButtonEl.classList.add('colab-df-spinner');\n",
              "      try {\n",
              "        const charts = await google.colab.kernel.invokeFunction(\n",
              "            'suggestCharts', [key], {});\n",
              "      } catch (error) {\n",
              "        console.error('Error during call to suggestCharts:', error);\n",
              "      }\n",
              "      quickchartButtonEl.classList.remove('colab-df-spinner');\n",
              "      quickchartButtonEl.classList.add('colab-df-quickchart-complete');\n",
              "    }\n",
              "    (() => {\n",
              "      let quickchartButtonEl =\n",
              "        document.querySelector('#df-efa48415-8fe1-48e2-a62b-23269d08e2cf button');\n",
              "      quickchartButtonEl.style.display =\n",
              "        google.colab.kernel.accessAllowed ? 'block' : 'none';\n",
              "    })();\n",
              "  </script>\n",
              "</div>\n",
              "    </div>\n",
              "  </div>\n"
            ],
            "text/plain": [
              "         DATE  SALES\n",
              "0  1992-01-01   3459\n",
              "1  1992-02-01   3458\n",
              "2  1992-03-01   4002\n",
              "3  1992-04-01   4564\n",
              "4  1992-05-01   4221"
            ]
          },
          "execution_count": 10,
          "metadata": {},
          "output_type": "execute_result"
        }
      ],
      "source": [
        "df_sales.head()"
      ]
    },
    {
      "cell_type": "code",
      "execution_count": null,
      "metadata": {
        "colab": {
          "base_uri": "https://localhost:8080/"
        },
        "id": "-KfzdW0ENDcQ",
        "outputId": "b4d7ff88-66c2-4760-956a-7069d89f7336"
      },
      "outputs": [
        {
          "data": {
            "text/plain": [
              "DATE     object\n",
              "SALES     int64\n",
              "dtype: object"
            ]
          },
          "execution_count": 11,
          "metadata": {},
          "output_type": "execute_result"
        }
      ],
      "source": [
        "df_sales.dtypes"
      ]
    },
    {
      "cell_type": "code",
      "execution_count": null,
      "metadata": {
        "id": "LpdAlG_2M4cQ"
      },
      "outputs": [],
      "source": [
        "df_sales['DATE'] = pd.to_datetime(df_sales['DATE'])\n",
        "df_sales.set_index('DATE', inplace=True)"
      ]
    },
    {
      "cell_type": "code",
      "execution_count": null,
      "metadata": {
        "id": "uaNd7E63OCM5"
      },
      "outputs": [],
      "source": [
        "train_data, test_data = train_test_split(df_sales, test_size=0.2, shuffle=False)\n"
      ]
    },
    {
      "cell_type": "code",
      "execution_count": null,
      "metadata": {
        "id": "oIQcBNrTOZ5H"
      },
      "outputs": [],
      "source": [
        "scaler = StandardScaler()\n",
        "train_data['SALES'] = scaler.fit_transform(train_data[['SALES']])\n",
        "test_data['SALES'] = scaler.transform(test_data[['SALES']])\n"
      ]
    },
    {
      "cell_type": "code",
      "execution_count": null,
      "metadata": {
        "id": "F56zemS-OzbQ"
      },
      "outputs": [],
      "source": [
        "def create_sequences(data, sequence_length):\n",
        "    sequences = []\n",
        "    targets = []\n",
        "    for i in range(len(data) - sequence_length):\n",
        "        seq = data.iloc[i:i + sequence_length]\n",
        "        target = data.iloc[i + sequence_length]\n",
        "        sequences.append(seq)\n",
        "        targets.append(target)\n",
        "    return np.array(sequences), np.array(targets)\n",
        "\n",
        "sequence_length = 10  # Adjust this value as needed\n",
        "X_train, y_train = create_sequences(train_data, sequence_length)\n",
        "X_test, y_test = create_sequences(test_data, sequence_length)\n"
      ]
    },
    {
      "cell_type": "code",
      "execution_count": null,
      "metadata": {
        "colab": {
          "base_uri": "https://localhost:8080/"
        },
        "id": "iJXyh6R6a6LG",
        "outputId": "caeb146b-54c6-47d9-80de-1c811deec79b"
      },
      "outputs": [
        {
          "name": "stdout",
          "output_type": "stream",
          "text": [
            "Epoch 1/100\n",
            "8/8 [==============================] - 2s 52ms/step - loss: 0.8510 - val_loss: 4.8219\n",
            "Epoch 2/100\n",
            "8/8 [==============================] - 0s 13ms/step - loss: 0.6357 - val_loss: 3.2489\n",
            "Epoch 3/100\n",
            "8/8 [==============================] - 0s 15ms/step - loss: 0.4092 - val_loss: 1.3042\n",
            "Epoch 4/100\n",
            "8/8 [==============================] - 0s 13ms/step - loss: 0.2071 - val_loss: 3.4554\n",
            "Epoch 5/100\n",
            "8/8 [==============================] - 0s 14ms/step - loss: 0.1948 - val_loss: 1.9476\n",
            "Epoch 6/100\n",
            "8/8 [==============================] - 0s 14ms/step - loss: 0.1734 - val_loss: 0.5668\n",
            "Epoch 7/100\n",
            "8/8 [==============================] - 0s 11ms/step - loss: 0.1728 - val_loss: 0.6402\n",
            "Epoch 8/100\n",
            "8/8 [==============================] - 0s 16ms/step - loss: 0.1617 - val_loss: 1.1642\n",
            "Epoch 9/100\n",
            "8/8 [==============================] - 0s 15ms/step - loss: 0.1651 - val_loss: 1.0874\n",
            "Epoch 10/100\n",
            "8/8 [==============================] - 0s 14ms/step - loss: 0.1626 - val_loss: 0.8392\n",
            "Epoch 11/100\n",
            "8/8 [==============================] - 0s 11ms/step - loss: 0.1607 - val_loss: 0.5437\n",
            "Epoch 12/100\n",
            "8/8 [==============================] - 0s 16ms/step - loss: 0.1612 - val_loss: 0.6900\n",
            "Epoch 13/100\n",
            "8/8 [==============================] - 0s 13ms/step - loss: 0.1594 - val_loss: 0.8502\n",
            "Epoch 14/100\n",
            "8/8 [==============================] - 0s 11ms/step - loss: 0.1583 - val_loss: 0.6190\n",
            "Epoch 15/100\n",
            "8/8 [==============================] - 0s 14ms/step - loss: 0.1551 - val_loss: 0.7544\n",
            "Epoch 16/100\n",
            "8/8 [==============================] - 0s 12ms/step - loss: 0.1541 - val_loss: 0.7810\n",
            "Epoch 17/100\n",
            "8/8 [==============================] - 0s 11ms/step - loss: 0.1530 - val_loss: 0.7061\n",
            "Epoch 18/100\n",
            "8/8 [==============================] - 0s 15ms/step - loss: 0.1517 - val_loss: 0.7366\n",
            "Epoch 19/100\n",
            "8/8 [==============================] - 0s 12ms/step - loss: 0.1500 - val_loss: 0.7164\n",
            "Epoch 20/100\n",
            "8/8 [==============================] - 0s 14ms/step - loss: 0.1484 - val_loss: 0.8609\n",
            "Epoch 21/100\n",
            "8/8 [==============================] - 0s 12ms/step - loss: 0.1482 - val_loss: 0.6792\n",
            "Epoch 22/100\n",
            "8/8 [==============================] - 0s 14ms/step - loss: 0.1478 - val_loss: 0.7935\n",
            "Epoch 23/100\n",
            "8/8 [==============================] - 0s 13ms/step - loss: 0.1453 - val_loss: 0.5815\n",
            "Epoch 24/100\n",
            "8/8 [==============================] - 0s 14ms/step - loss: 0.1442 - val_loss: 0.9403\n",
            "Epoch 25/100\n",
            "8/8 [==============================] - 0s 15ms/step - loss: 0.1409 - val_loss: 0.6945\n",
            "Epoch 26/100\n",
            "8/8 [==============================] - 0s 12ms/step - loss: 0.1403 - val_loss: 0.9596\n",
            "Epoch 27/100\n",
            "8/8 [==============================] - 0s 13ms/step - loss: 0.1416 - val_loss: 0.8783\n",
            "Epoch 28/100\n",
            "8/8 [==============================] - 0s 13ms/step - loss: 0.1479 - val_loss: 0.4662\n",
            "Epoch 29/100\n",
            "8/8 [==============================] - 0s 13ms/step - loss: 0.1387 - val_loss: 2.0092\n",
            "Epoch 30/100\n",
            "8/8 [==============================] - 0s 12ms/step - loss: 0.1402 - val_loss: 0.4834\n",
            "Epoch 31/100\n",
            "8/8 [==============================] - 0s 13ms/step - loss: 0.1392 - val_loss: 1.2773\n",
            "Epoch 32/100\n",
            "8/8 [==============================] - 0s 13ms/step - loss: 0.1438 - val_loss: 0.4823\n",
            "Epoch 33/100\n",
            "8/8 [==============================] - 0s 11ms/step - loss: 0.1346 - val_loss: 1.2095\n",
            "Epoch 34/100\n",
            "8/8 [==============================] - 0s 13ms/step - loss: 0.1394 - val_loss: 0.5042\n",
            "Epoch 35/100\n",
            "8/8 [==============================] - 0s 15ms/step - loss: 0.1374 - val_loss: 0.8938\n",
            "Epoch 36/100\n",
            "8/8 [==============================] - 0s 13ms/step - loss: 0.1361 - val_loss: 0.8057\n",
            "Epoch 37/100\n",
            "8/8 [==============================] - 0s 12ms/step - loss: 0.1340 - val_loss: 0.5968\n",
            "Epoch 38/100\n",
            "8/8 [==============================] - 0s 13ms/step - loss: 0.1334 - val_loss: 0.9519\n",
            "Epoch 39/100\n",
            "8/8 [==============================] - 0s 11ms/step - loss: 0.1326 - val_loss: 0.8171\n",
            "Epoch 40/100\n",
            "8/8 [==============================] - 0s 12ms/step - loss: 0.1323 - val_loss: 0.9521\n",
            "Epoch 41/100\n",
            "8/8 [==============================] - 0s 15ms/step - loss: 0.1332 - val_loss: 1.1943\n",
            "Epoch 42/100\n",
            "8/8 [==============================] - 0s 13ms/step - loss: 0.1365 - val_loss: 0.8577\n",
            "Epoch 43/100\n",
            "8/8 [==============================] - 0s 12ms/step - loss: 0.1341 - val_loss: 1.2424\n",
            "Epoch 44/100\n",
            "8/8 [==============================] - 0s 16ms/step - loss: 0.1302 - val_loss: 0.5749\n",
            "Epoch 45/100\n",
            "8/8 [==============================] - 0s 13ms/step - loss: 0.1324 - val_loss: 1.9842\n",
            "Epoch 46/100\n",
            "8/8 [==============================] - 0s 14ms/step - loss: 0.1314 - val_loss: 0.8242\n",
            "Epoch 47/100\n",
            "8/8 [==============================] - 0s 14ms/step - loss: 0.1292 - val_loss: 1.5263\n",
            "Epoch 48/100\n",
            "8/8 [==============================] - 0s 13ms/step - loss: 0.1293 - val_loss: 0.8491\n",
            "Epoch 49/100\n",
            "8/8 [==============================] - 0s 15ms/step - loss: 0.1270 - val_loss: 1.7019\n",
            "Epoch 50/100\n",
            "8/8 [==============================] - 0s 15ms/step - loss: 0.1260 - val_loss: 0.9039\n",
            "Epoch 51/100\n",
            "8/8 [==============================] - 0s 15ms/step - loss: 0.1269 - val_loss: 1.2073\n",
            "Epoch 52/100\n",
            "8/8 [==============================] - 0s 18ms/step - loss: 0.1256 - val_loss: 0.8915\n",
            "Epoch 53/100\n",
            "8/8 [==============================] - 0s 13ms/step - loss: 0.1274 - val_loss: 0.8829\n",
            "Epoch 54/100\n",
            "8/8 [==============================] - 0s 14ms/step - loss: 0.1246 - val_loss: 1.2382\n",
            "Epoch 55/100\n",
            "8/8 [==============================] - 0s 12ms/step - loss: 0.1241 - val_loss: 0.9026\n",
            "Epoch 56/100\n",
            "8/8 [==============================] - 0s 11ms/step - loss: 0.1283 - val_loss: 1.4251\n",
            "Epoch 57/100\n",
            "8/8 [==============================] - 0s 12ms/step - loss: 0.1243 - val_loss: 0.7783\n",
            "Epoch 58/100\n",
            "8/8 [==============================] - 0s 12ms/step - loss: 0.1223 - val_loss: 1.5159\n",
            "Epoch 59/100\n",
            "8/8 [==============================] - 0s 12ms/step - loss: 0.1260 - val_loss: 1.7038\n",
            "Epoch 60/100\n",
            "8/8 [==============================] - 0s 13ms/step - loss: 0.1223 - val_loss: 1.0727\n",
            "Epoch 61/100\n",
            "8/8 [==============================] - 0s 15ms/step - loss: 0.1287 - val_loss: 0.5282\n",
            "Epoch 62/100\n",
            "8/8 [==============================] - 0s 13ms/step - loss: 0.1259 - val_loss: 3.2028\n",
            "Epoch 63/100\n",
            "8/8 [==============================] - 0s 13ms/step - loss: 0.1224 - val_loss: 0.8225\n",
            "Epoch 64/100\n",
            "8/8 [==============================] - 0s 15ms/step - loss: 0.1200 - val_loss: 4.2220\n",
            "Epoch 65/100\n",
            "8/8 [==============================] - 0s 13ms/step - loss: 0.1230 - val_loss: 0.4521\n",
            "Epoch 66/100\n",
            "8/8 [==============================] - 0s 12ms/step - loss: 0.1202 - val_loss: 2.9942\n",
            "Epoch 67/100\n",
            "8/8 [==============================] - 0s 14ms/step - loss: 0.1135 - val_loss: 0.6262\n",
            "Epoch 68/100\n",
            "8/8 [==============================] - 0s 13ms/step - loss: 0.1175 - val_loss: 0.7907\n",
            "Epoch 69/100\n",
            "8/8 [==============================] - 0s 12ms/step - loss: 0.1147 - val_loss: 1.1780\n",
            "Epoch 70/100\n",
            "8/8 [==============================] - 0s 14ms/step - loss: 0.1101 - val_loss: 0.8744\n",
            "Epoch 71/100\n",
            "8/8 [==============================] - 0s 16ms/step - loss: 0.1094 - val_loss: 0.9928\n",
            "Epoch 72/100\n",
            "8/8 [==============================] - 0s 14ms/step - loss: 0.1073 - val_loss: 2.5149\n",
            "Epoch 73/100\n",
            "8/8 [==============================] - 0s 13ms/step - loss: 0.1047 - val_loss: 1.3420\n",
            "Epoch 74/100\n",
            "8/8 [==============================] - 0s 13ms/step - loss: 0.1062 - val_loss: 0.5343\n",
            "Epoch 75/100\n",
            "8/8 [==============================] - 0s 17ms/step - loss: 0.1169 - val_loss: 1.5195\n",
            "Epoch 76/100\n",
            "8/8 [==============================] - 0s 20ms/step - loss: 0.1043 - val_loss: 2.2741\n",
            "Epoch 77/100\n",
            "8/8 [==============================] - 0s 22ms/step - loss: 0.1043 - val_loss: 0.6645\n",
            "Epoch 78/100\n",
            "8/8 [==============================] - 0s 21ms/step - loss: 0.0945 - val_loss: 2.4634\n",
            "Epoch 79/100\n",
            "8/8 [==============================] - 0s 20ms/step - loss: 0.0971 - val_loss: 0.6193\n",
            "Epoch 80/100\n",
            "8/8 [==============================] - 0s 19ms/step - loss: 0.1144 - val_loss: 0.9390\n",
            "Epoch 81/100\n",
            "8/8 [==============================] - 0s 21ms/step - loss: 0.1031 - val_loss: 3.0267\n",
            "Epoch 82/100\n",
            "8/8 [==============================] - 0s 24ms/step - loss: 0.0983 - val_loss: 1.8976\n",
            "Epoch 83/100\n",
            "8/8 [==============================] - 1s 67ms/step - loss: 0.0947 - val_loss: 2.4984\n",
            "Epoch 84/100\n",
            "8/8 [==============================] - 0s 36ms/step - loss: 0.0931 - val_loss: 3.5677\n",
            "Epoch 85/100\n",
            "8/8 [==============================] - 0s 19ms/step - loss: 0.0933 - val_loss: 5.8095\n",
            "Epoch 86/100\n",
            "8/8 [==============================] - 0s 21ms/step - loss: 0.1096 - val_loss: 4.0918\n",
            "Epoch 87/100\n",
            "8/8 [==============================] - 0s 21ms/step - loss: 0.1090 - val_loss: 0.6687\n",
            "Epoch 88/100\n",
            "8/8 [==============================] - 0s 21ms/step - loss: 0.0945 - val_loss: 0.4514\n",
            "Epoch 89/100\n",
            "8/8 [==============================] - 0s 20ms/step - loss: 0.1026 - val_loss: 2.6945\n",
            "Epoch 90/100\n",
            "8/8 [==============================] - 0s 20ms/step - loss: 0.0939 - val_loss: 0.8419\n",
            "Epoch 91/100\n",
            "8/8 [==============================] - 0s 11ms/step - loss: 0.0855 - val_loss: 3.2656\n",
            "Epoch 92/100\n",
            "8/8 [==============================] - 0s 15ms/step - loss: 0.0905 - val_loss: 1.9171\n",
            "Epoch 93/100\n",
            "8/8 [==============================] - 0s 13ms/step - loss: 0.0989 - val_loss: 0.9477\n",
            "Epoch 94/100\n",
            "8/8 [==============================] - 0s 12ms/step - loss: 0.0863 - val_loss: 0.7273\n",
            "Epoch 95/100\n",
            "8/8 [==============================] - 0s 13ms/step - loss: 0.0835 - val_loss: 2.2714\n",
            "Epoch 96/100\n",
            "8/8 [==============================] - 0s 15ms/step - loss: 0.0826 - val_loss: 2.3757\n",
            "Epoch 97/100\n",
            "8/8 [==============================] - 0s 11ms/step - loss: 0.0829 - val_loss: 0.8438\n",
            "Epoch 98/100\n",
            "8/8 [==============================] - 0s 14ms/step - loss: 0.0793 - val_loss: 2.1910\n",
            "Epoch 99/100\n",
            "8/8 [==============================] - 0s 12ms/step - loss: 0.0791 - val_loss: 0.9345\n",
            "Epoch 100/100\n",
            "8/8 [==============================] - 0s 11ms/step - loss: 0.0847 - val_loss: 1.3040\n"
          ]
        },
        {
          "data": {
            "text/plain": [
              "<keras.src.callbacks.History at 0x7a4260765810>"
            ]
          },
          "execution_count": 19,
          "metadata": {},
          "output_type": "execute_result"
        }
      ],
      "source": [
        "import numpy as np\n",
        "from tensorflow.keras.models import Sequential\n",
        "from tensorflow.keras.layers import LSTM, Dense\n",
        "\n",
        "model = Sequential()\n",
        "model.add(LSTM(64, activation='relu', input_shape=(sequence_length, 1)))\n",
        "model.add(Dense(1))  # Output layer for forecasting\n",
        "\n",
        "model.compile(optimizer='adam', loss='mean_squared_error')\n",
        "\n",
        "model.fit(X_train, y_train, epochs=100, batch_size=32, validation_data=(X_test, y_test))\n"
      ]
    },
    {
      "cell_type": "code",
      "execution_count": null,
      "metadata": {
        "colab": {
          "base_uri": "https://localhost:8080/"
        },
        "id": "FX7RGTtGbWWX",
        "outputId": "76d895e7-031a-4b17-cda1-d38fccb5f460"
      },
      "outputs": [
        {
          "name": "stdout",
          "output_type": "stream",
          "text": [
            "2/2 [==============================] - 0s 7ms/step\n",
            "Root Mean Squared Error (RMSE): 1.1419441638625467\n"
          ]
        }
      ],
      "source": [
        "from sklearn.metrics import mean_squared_error\n",
        "\n",
        "# Make predictions on the test data\n",
        "y_pred = model.predict(X_test)\n",
        "\n",
        "# Calculate RMSE (Root Mean Squared Error)\n",
        "rmse = np.sqrt(mean_squared_error(y_test, y_pred))\n",
        "print(f'Root Mean Squared Error (RMSE): {rmse}')\n"
      ]
    },
    {
      "cell_type": "markdown",
      "metadata": {
        "id": "WEX_HXGrstST"
      },
      "source": [
        "# task b"
      ]
    },
    {
      "cell_type": "code",
      "execution_count": 1,
      "metadata": {
        "id": "riFOpqFMwNCo"
      },
      "outputs": [
        {
          "name": "stderr",
          "output_type": "stream",
          "text": [
            "2023-09-20 20:33:03.653921: I tensorflow/tsl/cuda/cudart_stub.cc:28] Could not find cuda drivers on your machine, GPU will not be used.\n",
            "2023-09-20 20:33:07.000415: I tensorflow/tsl/cuda/cudart_stub.cc:28] Could not find cuda drivers on your machine, GPU will not be used.\n",
            "2023-09-20 20:33:07.001240: I tensorflow/core/platform/cpu_feature_guard.cc:182] This TensorFlow binary is optimized to use available CPU instructions in performance-critical operations.\n",
            "To enable the following instructions: AVX2 FMA, in other operations, rebuild TensorFlow with the appropriate compiler flags.\n",
            "2023-09-20 20:33:11.834773: W tensorflow/compiler/tf2tensorrt/utils/py_utils.cc:38] TF-TRT Warning: Could not find TensorRT\n"
          ]
        }
      ],
      "source": [
        "import pandas as pd\n",
        "import numpy as np\n",
        "import matplotlib.pyplot as plt\n",
        "from sklearn.model_selection import train_test_split\n",
        "import tensorflow as tf\n",
        "from tensorflow.keras.models import Sequential\n",
        "from tensorflow.keras.layers import *\n",
        "from tensorflow.keras.callbacks import ModelCheckpoint\n",
        "from tensorflow.keras.losses import MeanSquaredError\n",
        "from tensorflow.keras.metrics import RootMeanSquaredError\n",
        "from tensorflow.keras.optimizers import Adam"
      ]
    },
    {
      "cell_type": "code",
      "execution_count": 57,
      "metadata": {
        "id": "brRHCr3Gsu_Q"
      },
      "outputs": [],
      "source": [
        "df_miles = pd.read_csv(\"data/task4/Miles_Traveled.csv\")"
      ]
    },
    {
      "cell_type": "code",
      "execution_count": 58,
      "metadata": {
        "colab": {
          "base_uri": "https://localhost:8080/",
          "height": 206
        },
        "id": "il0mE7JxtPgp",
        "outputId": "6504e2e8-ef29-443e-a2d7-c6d1be805e68"
      },
      "outputs": [
        {
          "data": {
            "text/html": [
              "<div>\n",
              "<style scoped>\n",
              "    .dataframe tbody tr th:only-of-type {\n",
              "        vertical-align: middle;\n",
              "    }\n",
              "\n",
              "    .dataframe tbody tr th {\n",
              "        vertical-align: top;\n",
              "    }\n",
              "\n",
              "    .dataframe thead th {\n",
              "        text-align: right;\n",
              "    }\n",
              "</style>\n",
              "<table border=\"1\" class=\"dataframe\">\n",
              "  <thead>\n",
              "    <tr style=\"text-align: right;\">\n",
              "      <th></th>\n",
              "      <th>DATE</th>\n",
              "      <th>TRFVOLUSM227NFWA</th>\n",
              "    </tr>\n",
              "  </thead>\n",
              "  <tbody>\n",
              "    <tr>\n",
              "      <th>0</th>\n",
              "      <td>1970-01-01</td>\n",
              "      <td>80173.0</td>\n",
              "    </tr>\n",
              "    <tr>\n",
              "      <th>1</th>\n",
              "      <td>1970-02-01</td>\n",
              "      <td>77442.0</td>\n",
              "    </tr>\n",
              "    <tr>\n",
              "      <th>2</th>\n",
              "      <td>1970-03-01</td>\n",
              "      <td>90223.0</td>\n",
              "    </tr>\n",
              "  </tbody>\n",
              "</table>\n",
              "</div>"
            ],
            "text/plain": [
              "         DATE  TRFVOLUSM227NFWA\n",
              "0  1970-01-01           80173.0\n",
              "1  1970-02-01           77442.0\n",
              "2  1970-03-01           90223.0"
            ]
          },
          "execution_count": 58,
          "metadata": {},
          "output_type": "execute_result"
        }
      ],
      "source": [
        "df_miles.head(3)"
      ]
    },
    {
      "cell_type": "code",
      "execution_count": 59,
      "metadata": {
        "id": "oHxcGAbftRgh"
      },
      "outputs": [],
      "source": [
        "df_miles.columns = [\"DATE\", \"MILES\"]"
      ]
    },
    {
      "cell_type": "code",
      "execution_count": 60,
      "metadata": {},
      "outputs": [
        {
          "data": {
            "text/html": [
              "<div>\n",
              "<style scoped>\n",
              "    .dataframe tbody tr th:only-of-type {\n",
              "        vertical-align: middle;\n",
              "    }\n",
              "\n",
              "    .dataframe tbody tr th {\n",
              "        vertical-align: top;\n",
              "    }\n",
              "\n",
              "    .dataframe thead th {\n",
              "        text-align: right;\n",
              "    }\n",
              "</style>\n",
              "<table border=\"1\" class=\"dataframe\">\n",
              "  <thead>\n",
              "    <tr style=\"text-align: right;\">\n",
              "      <th></th>\n",
              "      <th>DATE</th>\n",
              "      <th>MILES</th>\n",
              "    </tr>\n",
              "  </thead>\n",
              "  <tbody>\n",
              "    <tr>\n",
              "      <th>0</th>\n",
              "      <td>1970-01-01</td>\n",
              "      <td>80173.0</td>\n",
              "    </tr>\n",
              "    <tr>\n",
              "      <th>1</th>\n",
              "      <td>1970-02-01</td>\n",
              "      <td>77442.0</td>\n",
              "    </tr>\n",
              "    <tr>\n",
              "      <th>2</th>\n",
              "      <td>1970-03-01</td>\n",
              "      <td>90223.0</td>\n",
              "    </tr>\n",
              "    <tr>\n",
              "      <th>3</th>\n",
              "      <td>1970-04-01</td>\n",
              "      <td>89956.0</td>\n",
              "    </tr>\n",
              "    <tr>\n",
              "      <th>4</th>\n",
              "      <td>1970-05-01</td>\n",
              "      <td>97972.0</td>\n",
              "    </tr>\n",
              "    <tr>\n",
              "      <th>5</th>\n",
              "      <td>1970-06-01</td>\n",
              "      <td>100035.0</td>\n",
              "    </tr>\n",
              "    <tr>\n",
              "      <th>6</th>\n",
              "      <td>1970-07-01</td>\n",
              "      <td>106392.0</td>\n",
              "    </tr>\n",
              "    <tr>\n",
              "      <th>7</th>\n",
              "      <td>1970-08-01</td>\n",
              "      <td>106969.0</td>\n",
              "    </tr>\n",
              "    <tr>\n",
              "      <th>8</th>\n",
              "      <td>1970-09-01</td>\n",
              "      <td>95254.0</td>\n",
              "    </tr>\n",
              "    <tr>\n",
              "      <th>9</th>\n",
              "      <td>1970-10-01</td>\n",
              "      <td>96317.0</td>\n",
              "    </tr>\n",
              "    <tr>\n",
              "      <th>10</th>\n",
              "      <td>1970-11-01</td>\n",
              "      <td>89684.0</td>\n",
              "    </tr>\n",
              "    <tr>\n",
              "      <th>11</th>\n",
              "      <td>1970-12-01</td>\n",
              "      <td>89911.0</td>\n",
              "    </tr>\n",
              "    <tr>\n",
              "      <th>12</th>\n",
              "      <td>1971-01-01</td>\n",
              "      <td>85336.0</td>\n",
              "    </tr>\n",
              "    <tr>\n",
              "      <th>13</th>\n",
              "      <td>1971-02-01</td>\n",
              "      <td>80118.0</td>\n",
              "    </tr>\n",
              "    <tr>\n",
              "      <th>14</th>\n",
              "      <td>1971-03-01</td>\n",
              "      <td>92974.0</td>\n",
              "    </tr>\n",
              "    <tr>\n",
              "      <th>15</th>\n",
              "      <td>1971-04-01</td>\n",
              "      <td>98106.0</td>\n",
              "    </tr>\n",
              "    <tr>\n",
              "      <th>16</th>\n",
              "      <td>1971-05-01</td>\n",
              "      <td>103655.0</td>\n",
              "    </tr>\n",
              "    <tr>\n",
              "      <th>17</th>\n",
              "      <td>1971-06-01</td>\n",
              "      <td>105433.0</td>\n",
              "    </tr>\n",
              "    <tr>\n",
              "      <th>18</th>\n",
              "      <td>1971-07-01</td>\n",
              "      <td>112466.0</td>\n",
              "    </tr>\n",
              "    <tr>\n",
              "      <th>19</th>\n",
              "      <td>1971-08-01</td>\n",
              "      <td>112642.0</td>\n",
              "    </tr>\n",
              "  </tbody>\n",
              "</table>\n",
              "</div>"
            ],
            "text/plain": [
              "         DATE     MILES\n",
              "0  1970-01-01   80173.0\n",
              "1  1970-02-01   77442.0\n",
              "2  1970-03-01   90223.0\n",
              "3  1970-04-01   89956.0\n",
              "4  1970-05-01   97972.0\n",
              "5  1970-06-01  100035.0\n",
              "6  1970-07-01  106392.0\n",
              "7  1970-08-01  106969.0\n",
              "8  1970-09-01   95254.0\n",
              "9  1970-10-01   96317.0\n",
              "10 1970-11-01   89684.0\n",
              "11 1970-12-01   89911.0\n",
              "12 1971-01-01   85336.0\n",
              "13 1971-02-01   80118.0\n",
              "14 1971-03-01   92974.0\n",
              "15 1971-04-01   98106.0\n",
              "16 1971-05-01  103655.0\n",
              "17 1971-06-01  105433.0\n",
              "18 1971-07-01  112466.0\n",
              "19 1971-08-01  112642.0"
            ]
          },
          "execution_count": 60,
          "metadata": {},
          "output_type": "execute_result"
        }
      ],
      "source": [
        "df_miles['DATE'] = pd.to_datetime(df_miles['DATE'])\n",
        "df_miles.sort_values(by='DATE', inplace=True)\n",
        "df_miles[:20]"
      ]
    },
    {
      "cell_type": "code",
      "execution_count": 61,
      "metadata": {
        "id": "_e6x1JgFtXqJ"
      },
      "outputs": [],
      "source": [
        "df_miles.index = pd.to_datetime(df_miles[\"DATE\"])"
      ]
    },
    {
      "cell_type": "code",
      "execution_count": 64,
      "metadata": {},
      "outputs": [
        {
          "data": {
            "text/html": [
              "<div>\n",
              "<style scoped>\n",
              "    .dataframe tbody tr th:only-of-type {\n",
              "        vertical-align: middle;\n",
              "    }\n",
              "\n",
              "    .dataframe tbody tr th {\n",
              "        vertical-align: top;\n",
              "    }\n",
              "\n",
              "    .dataframe thead th {\n",
              "        text-align: right;\n",
              "    }\n",
              "</style>\n",
              "<table border=\"1\" class=\"dataframe\">\n",
              "  <thead>\n",
              "    <tr style=\"text-align: right;\">\n",
              "      <th></th>\n",
              "      <th>MILES</th>\n",
              "    </tr>\n",
              "    <tr>\n",
              "      <th>DATE</th>\n",
              "      <th></th>\n",
              "    </tr>\n",
              "  </thead>\n",
              "  <tbody>\n",
              "    <tr>\n",
              "      <th>1970-01-01</th>\n",
              "      <td>80173.0</td>\n",
              "    </tr>\n",
              "    <tr>\n",
              "      <th>1970-02-01</th>\n",
              "      <td>77442.0</td>\n",
              "    </tr>\n",
              "    <tr>\n",
              "      <th>1970-03-01</th>\n",
              "      <td>90223.0</td>\n",
              "    </tr>\n",
              "  </tbody>\n",
              "</table>\n",
              "</div>"
            ],
            "text/plain": [
              "              MILES\n",
              "DATE               \n",
              "1970-01-01  80173.0\n",
              "1970-02-01  77442.0\n",
              "1970-03-01  90223.0"
            ]
          },
          "execution_count": 64,
          "metadata": {},
          "output_type": "execute_result"
        }
      ],
      "source": [
        "df_miles = df_miles.drop(columns=[\"DATE\"])\n",
        "df_miles.head(3)"
      ]
    },
    {
      "cell_type": "code",
      "execution_count": 77,
      "metadata": {},
      "outputs": [
        {
          "data": {
            "text/plain": [
              "<Axes: xlabel='DATE'>"
            ]
          },
          "execution_count": 77,
          "metadata": {},
          "output_type": "execute_result"
        },
        {
          "data": {
            "image/png": "[encoded data removed]",
            "text/plain": [
              "<Figure size 640x480 with 1 Axes>"
            ]
          },
          "metadata": {},
          "output_type": "display_data"
        }
      ],
      "source": [
        "df_miles.plot()"
      ]
    },
    {
      "cell_type": "code",
      "execution_count": 78,
      "metadata": {},
      "outputs": [],
      "source": [
        "def df_to_X_y(df, window_size = 5):\n",
        "    df_as_np = df.to_numpy()\n",
        "    X = []\n",
        "    y = []\n",
        "    for i in range(len(df_as_np) - window_size):\n",
        "        # to make a list of list\n",
        "        row = [[a] for a in df_as_np[i:i+5]]\n",
        "        X.append(row)\n",
        "        label = df_as_np[i+5]\n",
        "        y.append(label)\n",
        "\n",
        "    return np.array(X), np.array(y)"
      ]
    },
    {
      "cell_type": "code",
      "execution_count": 83,
      "metadata": {},
      "outputs": [
        {
          "data": {
            "text/plain": [
              "((581, 5, 1, 1), (581, 1))"
            ]
          },
          "execution_count": 83,
          "metadata": {},
          "output_type": "execute_result"
        }
      ],
      "source": [
        "X, y = df_to_X_y(df_miles, 7)\n",
        "X.shape, y.shape"
      ]
    },
    {
      "cell_type": "code",
      "execution_count": 85,
      "metadata": {},
      "outputs": [],
      "source": [
        "# 70:30 split\n",
        "split_index = int(len(df_miles) * 0.7)\n",
        "\n",
        "X_train = X[:split_index]\n",
        "y_train = y[:split_index]\n",
        "X_test = X[split_index:]\n",
        "y_test = y[split_index:]"
      ]
    },
    {
      "cell_type": "code",
      "execution_count": 86,
      "metadata": {},
      "outputs": [
        {
          "name": "stdout",
          "output_type": "stream",
          "text": [
            "Model: \"sequential\"\n",
            "_________________________________________________________________\n",
            " Layer (type)                Output Shape              Param #   \n",
            "=================================================================\n",
            " lstm (LSTM)                 (None, 64)                16896     \n",
            "                                                                 \n",
            " dense (Dense)               (None, 8)                 520       \n",
            "                                                                 \n",
            " dense_1 (Dense)             (None, 1)                 9         \n",
            "                                                                 \n",
            "=================================================================\n",
            "Total params: 17425 (68.07 KB)\n",
            "Trainable params: 17425 (68.07 KB)\n",
            "Non-trainable params: 0 (0.00 Byte)\n",
            "_________________________________________________________________\n"
          ]
        }
      ],
      "source": [
        "model = Sequential()\n",
        "model.add(InputLayer((5,1)))\n",
        "model.add(LSTM(64))\n",
        "model.add(Dense(8, \"relu\"))\n",
        "model.add(Dense(1, \"linear\"))\n",
        "\n",
        "model.summary()"
      ]
    },
    {
      "cell_type": "code",
      "execution_count": 88,
      "metadata": {},
      "outputs": [],
      "source": [
        "model.compile(loss = MeanSquaredError(), optimizer=Adam(learning_rate=0.0001), metrics=[RootMeanSquaredError()])"
      ]
    },
    {
      "cell_type": "code",
      "execution_count": 89,
      "metadata": {},
      "outputs": [],
      "source": [
        "# get validation set\n",
        "X_train, X_val, y_train, y_val = train_test_split(X_train, y_train, test_size=0.2, shuffle=False)"
      ]
    },
    {
      "cell_type": "code",
      "execution_count": 90,
      "metadata": {},
      "outputs": [
        {
          "name": "stdout",
          "output_type": "stream",
          "text": [
            "Epoch 1/10\n",
            "11/11 [==============================] - 2s 39ms/step - loss: 23452928000.0000 - root_mean_squared_error: 153143.4844 - val_loss: 53876617216.0000 - val_root_mean_squared_error: 232113.3750\n",
            "Epoch 2/10\n",
            "11/11 [==============================] - 0s 4ms/step - loss: 23452921856.0000 - root_mean_squared_error: 153143.4688 - val_loss: 53876600832.0000 - val_root_mean_squared_error: 232113.3438\n",
            "Epoch 3/10\n",
            "11/11 [==============================] - 0s 4ms/step - loss: 23452911616.0000 - root_mean_squared_error: 153143.4375 - val_loss: 53876592640.0000 - val_root_mean_squared_error: 232113.3125\n",
            "Epoch 4/10\n",
            "11/11 [==============================] - 0s 7ms/step - loss: 23452905472.0000 - root_mean_squared_error: 153143.4219 - val_loss: 53876580352.0000 - val_root_mean_squared_error: 232113.2969\n",
            "Epoch 5/10\n",
            "11/11 [==============================] - 0s 4ms/step - loss: 23452899328.0000 - root_mean_squared_error: 153143.3906 - val_loss: 53876568064.0000 - val_root_mean_squared_error: 232113.2656\n",
            "Epoch 6/10\n",
            "11/11 [==============================] - 0s 4ms/step - loss: 23452891136.0000 - root_mean_squared_error: 153143.3750 - val_loss: 53876568064.0000 - val_root_mean_squared_error: 232113.2656\n",
            "Epoch 7/10\n",
            "11/11 [==============================] - 0s 5ms/step - loss: 23452884992.0000 - root_mean_squared_error: 153143.3438 - val_loss: 53876547584.0000 - val_root_mean_squared_error: 232113.2188\n",
            "Epoch 8/10\n",
            "11/11 [==============================] - 0s 6ms/step - loss: 23452878848.0000 - root_mean_squared_error: 153143.3281 - val_loss: 53876543488.0000 - val_root_mean_squared_error: 232113.2188\n",
            "Epoch 9/10\n",
            "11/11 [==============================] - 0s 6ms/step - loss: 23452872704.0000 - root_mean_squared_error: 153143.3125 - val_loss: 53876531200.0000 - val_root_mean_squared_error: 232113.1875\n",
            "Epoch 10/10\n",
            "11/11 [==============================] - 0s 9ms/step - loss: 23452866560.0000 - root_mean_squared_error: 153143.2812 - val_loss: 53876518912.0000 - val_root_mean_squared_error: 232113.1562\n"
          ]
        }
      ],
      "source": [
        "history = model.fit(X_train, y_train, validation_data=(X_val, y_val), epochs = 10)"
      ]
    },
    {
      "cell_type": "code",
      "execution_count": 92,
      "metadata": {},
      "outputs": [
        {
          "data": {
            "image/png": "[encoded data removed]",
            "text/plain": [
              "<Figure size 1000x500 with 1 Axes>"
            ]
          },
          "metadata": {},
          "output_type": "display_data"
        }
      ],
      "source": [
        "import matplotlib.pyplot as plt\n",
        "\n",
        "training_loss = history.history['loss']\n",
        "testing_loss = history.history['val_loss']\n",
        "\n",
        "epochs = range(1, len(training_loss) + 1)\n",
        "\n",
        "plt.figure(figsize=(10, 5))\n",
        "plt.plot(epochs, training_loss, label='Training Loss')\n",
        "plt.plot(epochs, testing_loss, label='Testing Loss')\n",
        "plt.xlabel('Epoch')\n",
        "plt.ylabel('Loss')\n",
        "plt.title('Training and Testing Loss Over Epochs')\n",
        "plt.legend()\n",
        "plt.show()"
      ]
    },
    {
      "cell_type": "code",
      "execution_count": 100,
      "metadata": {},
      "outputs": [
        {
          "name": "stdout",
          "output_type": "stream",
          "text": [
            "6/6 [==============================] - 0s 1ms/step\n"
          ]
        },
        {
          "data": {
            "text/html": [
              "<div>\n",
              "<style scoped>\n",
              "    .dataframe tbody tr th:only-of-type {\n",
              "        vertical-align: middle;\n",
              "    }\n",
              "\n",
              "    .dataframe tbody tr th {\n",
              "        vertical-align: top;\n",
              "    }\n",
              "\n",
              "    .dataframe thead th {\n",
              "        text-align: right;\n",
              "    }\n",
              "</style>\n",
              "<table border=\"1\" class=\"dataframe\">\n",
              "  <thead>\n",
              "    <tr style=\"text-align: right;\">\n",
              "      <th></th>\n",
              "      <th>Train Predictions</th>\n",
              "      <th>Actuals</th>\n",
              "    </tr>\n",
              "  </thead>\n",
              "  <tbody>\n",
              "    <tr>\n",
              "      <th>0</th>\n",
              "      <td>-0.434001</td>\n",
              "      <td>243515.0</td>\n",
              "    </tr>\n",
              "    <tr>\n",
              "      <th>1</th>\n",
              "      <td>-0.434001</td>\n",
              "      <td>254496.0</td>\n",
              "    </tr>\n",
              "    <tr>\n",
              "      <th>2</th>\n",
              "      <td>-0.434001</td>\n",
              "      <td>239796.0</td>\n",
              "    </tr>\n",
              "    <tr>\n",
              "      <th>3</th>\n",
              "      <td>-0.434001</td>\n",
              "      <td>245029.0</td>\n",
              "    </tr>\n",
              "    <tr>\n",
              "      <th>4</th>\n",
              "      <td>-0.434001</td>\n",
              "      <td>224072.0</td>\n",
              "    </tr>\n",
              "    <tr>\n",
              "      <th>...</th>\n",
              "      <td>...</td>\n",
              "      <td>...</td>\n",
              "    </tr>\n",
              "    <tr>\n",
              "      <th>165</th>\n",
              "      <td>-0.434001</td>\n",
              "      <td>280877.0</td>\n",
              "    </tr>\n",
              "    <tr>\n",
              "      <th>166</th>\n",
              "      <td>-0.434001</td>\n",
              "      <td>288145.0</td>\n",
              "    </tr>\n",
              "    <tr>\n",
              "      <th>167</th>\n",
              "      <td>-0.434001</td>\n",
              "      <td>286608.0</td>\n",
              "    </tr>\n",
              "    <tr>\n",
              "      <th>168</th>\n",
              "      <td>-0.434001</td>\n",
              "      <td>260595.0</td>\n",
              "    </tr>\n",
              "    <tr>\n",
              "      <th>169</th>\n",
              "      <td>-0.434001</td>\n",
              "      <td>282174.0</td>\n",
              "    </tr>\n",
              "  </tbody>\n",
              "</table>\n",
              "<p>170 rows × 2 columns</p>\n",
              "</div>"
            ],
            "text/plain": [
              "     Train Predictions   Actuals\n",
              "0            -0.434001  243515.0\n",
              "1            -0.434001  254496.0\n",
              "2            -0.434001  239796.0\n",
              "3            -0.434001  245029.0\n",
              "4            -0.434001  224072.0\n",
              "..                 ...       ...\n",
              "165          -0.434001  280877.0\n",
              "166          -0.434001  288145.0\n",
              "167          -0.434001  286608.0\n",
              "168          -0.434001  260595.0\n",
              "169          -0.434001  282174.0\n",
              "\n",
              "[170 rows x 2 columns]"
            ]
          },
          "execution_count": 100,
          "metadata": {},
          "output_type": "execute_result"
        }
      ],
      "source": [
        "train_predictions = model.predict(X_test).flatten()\n",
        "train_results = pd.DataFrame({'Train Predictions': train_predictions, 'Actuals': y_test.flatten()})\n",
        "train_results"
      ]
    },
    {
      "cell_type": "code",
      "execution_count": 102,
      "metadata": {},
      "outputs": [
        {
          "data": {
            "image/png": "[encoded data removed]",
            "text/plain": [
              "<Figure size 640x480 with 1 Axes>"
            ]
          },
          "metadata": {},
          "output_type": "display_data"
        }
      ],
      "source": [
        "plt.plot(train_results['Train Predictions'][:100], label = \"Predictions\")\n",
        "plt.plot(train_results['Actuals'][:100], label = \"Actual\")\n",
        "plt.legend()\n",
        "plt.show()"
      ]
    },
    {
      "cell_type": "code",
      "execution_count": 103,
      "metadata": {},
      "outputs": [
        {
          "name": "stdout",
          "output_type": "stream",
          "text": [
            "6/6 [==============================] - 0s 2ms/step\n",
            "Root Mean Squared Error (RMSE): 253681.61127634672\n"
          ]
        }
      ],
      "source": [
        "from sklearn.metrics import mean_squared_error\n",
        "y_pred = model.predict(X_test)\n",
        "\n",
        "# RMSE\n",
        "rmse = np.sqrt(mean_squared_error(y_test, y_pred))\n",
        "print(f'Root Mean Squared Error (RMSE): {rmse}')"
      ]
    }
  ],
  "metadata": {
    "accelerator": "GPU",
    "colab": {
      "gpuType": "T4",
      "provenance": []
    },
    "kernelspec": {
      "display_name": "Python 3",
      "name": "python3"
    },
    "language_info": {
      "codemirror_mode": {
        "name": "ipython",
        "version": 3
      },
      "file_extension": ".py",
      "mimetype": "text/x-python",
      "name": "python",
      "nbconvert_exporter": "python",
      "pygments_lexer": "ipython3",
      "version": "3.10.8"
    }
  },
  "nbformat": 4,
  "nbformat_minor": 0
}
