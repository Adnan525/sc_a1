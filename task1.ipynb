{
 "cells": [
  {
   "cell_type": "code",
   "execution_count": 34,
   "id": "e252f24a",
   "metadata": {},
   "outputs": [
    {
     "name": "stdout",
     "output_type": "stream",
     "text": [
      "erythema\n",
      "scaling\n",
      "definite borders\n",
      "itching\n",
      "koebner phenomenon\n",
      "polygonal papules\n",
      "follicular papules\n",
      "oral mucosal involvement\n",
      "knee and elbow involvement\n",
      "scalp involvement\n",
      "family history, (0 or 1)\n",
      "Age (linear)\n",
      "melanin incontinence\n",
      "eosinophils in the infiltrate\n",
      "PNL infiltrate\n",
      "fibrosis of the papillary dermis\n",
      "exocytosis\n",
      "acanthosis\n",
      "hyperkeratosis\n",
      "parakeratosis\n",
      "clubbing of the rete ridges\n",
      "elongation of the rete ridges\n",
      "thinning of the suprapapillary epidermis\n",
      "spongiform pustule\n",
      "munro microabcess\n",
      "focal hypergranulosis\n",
      "disappearance of the granular layer\n",
      "vacuolisation and damage of basal layer\n",
      "spongiosis\n",
      "saw-tooth appearance of retes\n",
      "follicular horn plug\n",
      "perifollicular parakeratosis\n",
      "inflammatory monoluclear inflitrate\n",
      "band-like infiltrate\n"
     ]
    }
   ],
   "source": [
    "#\n",
    "start_capture = False\n",
    "captured_lines = []\n",
    "\n",
    "with open('data/task1/dermatology.names', 'r') as f:\n",
    "    for line in f:\n",
    "        if \"Clinical Attributes: (take values 0, 1, 2, 3, unless otherwise indicated)\" in line:\n",
    "            start_capture = True\n",
    "        elif \"8. Missing Attribute Values: 8 (in Age attribute). Distinguished with '?'.\" in line:\n",
    "            break\n",
    "        elif \"Histopathological Attributes: (take values 0, 1, 2, 3)\" in line:\n",
    "            continue\n",
    "        elif start_capture:\n",
    "            text = line.strip()\n",
    "            temp = text.split(\":\")\n",
    "            if len(temp) > 1 : \n",
    "                captured_lines.append(temp[1][1:len(temp[1])])\n",
    "\n",
    "column_names = '\\n'.join(captured_lines)\n",
    "print(column_names)\n"
   ]
  }
 ],
 "metadata": {
  "kernelspec": {
   "display_name": "Python 3 (ipykernel)",
   "language": "python",
   "name": "python3"
  },
  "language_info": {
   "codemirror_mode": {
    "name": "ipython",
    "version": 3
   },
   "file_extension": ".py",
   "mimetype": "text/x-python",
   "name": "python",
   "nbconvert_exporter": "python",
   "pygments_lexer": "ipython3",
   "version": "3.8.17"
  }
 },
 "nbformat": 4,
 "nbformat_minor": 5
}
