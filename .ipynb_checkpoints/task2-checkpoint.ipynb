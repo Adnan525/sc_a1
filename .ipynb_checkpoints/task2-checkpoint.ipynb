{
 "cells": [
  {
   "cell_type": "code",
   "execution_count": 59,
   "metadata": {
    "id": "Vte9fxCTcUqI"
   },
   "outputs": [],
   "source": [
    "import warnings\n",
    "warnings.filterwarnings(\"ignore\")"
   ]
  },
  {
   "cell_type": "code",
   "execution_count": 60,
   "metadata": {
    "id": "ig-HGnrbc9iG"
   },
   "outputs": [],
   "source": [
    "import pandas as pd\n",
    "import numpy as np\n",
    "from sklearn.model_selection import train_test_split\n",
    "from sklearn.preprocessing import LabelEncoder\n",
    "from tensorflow.keras.models import Sequential\n",
    "from tensorflow.keras.layers import Conv1D, MaxPooling1D, Flatten, Dense, Dropout\n",
    "from sklearn.preprocessing import StandardScaler\n",
    "from tensorflow.keras.regularizers import l2"
   ]
  },
  {
   "cell_type": "markdown",
   "metadata": {
    "id": "lI5IGn9Iz5LO"
   },
   "source": [
    "# Data 1 CNN"
   ]
  },
  {
   "cell_type": "code",
   "execution_count": 61,
   "metadata": {
    "colab": {
     "base_uri": "https://localhost:8080/",
     "height": 112
    },
    "id": "OExvO0n3dkOu",
    "outputId": "bf9655b5-a6f9-4dd9-fa4c-218c01f477f5"
   },
   "outputs": [
    {
     "data": {
      "text/html": [
       "<div>\n",
       "<style scoped>\n",
       "    .dataframe tbody tr th:only-of-type {\n",
       "        vertical-align: middle;\n",
       "    }\n",
       "\n",
       "    .dataframe tbody tr th {\n",
       "        vertical-align: top;\n",
       "    }\n",
       "\n",
       "    .dataframe thead th {\n",
       "        text-align: right;\n",
       "    }\n",
       "</style>\n",
       "<table border=\"1\" class=\"dataframe\">\n",
       "  <thead>\n",
       "    <tr style=\"text-align: right;\">\n",
       "      <th></th>\n",
       "      <th>acousticness</th>\n",
       "      <th>liveness</th>\n",
       "      <th>speechiness</th>\n",
       "      <th>valence</th>\n",
       "      <th>music_genre</th>\n",
       "    </tr>\n",
       "  </thead>\n",
       "  <tbody>\n",
       "    <tr>\n",
       "      <th>0</th>\n",
       "      <td>0.00468</td>\n",
       "      <td>0.115</td>\n",
       "      <td>0.0748</td>\n",
       "      <td>0.759</td>\n",
       "      <td>0</td>\n",
       "    </tr>\n",
       "    <tr>\n",
       "      <th>1</th>\n",
       "      <td>0.01270</td>\n",
       "      <td>0.124</td>\n",
       "      <td>0.0300</td>\n",
       "      <td>0.531</td>\n",
       "      <td>0</td>\n",
       "    </tr>\n",
       "  </tbody>\n",
       "</table>\n",
       "</div>"
      ],
      "text/plain": [
       "   acousticness  liveness  speechiness  valence  music_genre\n",
       "0       0.00468     0.115       0.0748    0.759            0\n",
       "1       0.01270     0.124       0.0300    0.531            0"
      ]
     },
     "execution_count": 61,
     "metadata": {},
     "output_type": "execute_result"
    }
   ],
   "source": [
    "column_names = [\"acousticness\",\t\"liveness\",\t\"speechiness\",\t\"valence\",\t\"music_genre\"]\n",
    "df = pd.read_csv(\"data/task2/music_genre.csv\", names = column_names)\n",
    "df.head(2)"
   ]
  },
  {
   "cell_type": "code",
   "execution_count": 62,
   "metadata": {
    "colab": {
     "base_uri": "https://localhost:8080/"
    },
    "id": "p-0_q---d1xa",
    "outputId": "9157bd74-ca49-4a62-81da-39df1a9d1556"
   },
   "outputs": [
    {
     "data": {
      "text/plain": [
       "music_genre\n",
       "0    5000\n",
       "1    5000\n",
       "2    5000\n",
       "3    5000\n",
       "4    5000\n",
       "5    5000\n",
       "6    5000\n",
       "7    5000\n",
       "8    5000\n",
       "9    5000\n",
       "Name: count, dtype: int64"
      ]
     },
     "execution_count": 62,
     "metadata": {},
     "output_type": "execute_result"
    }
   ],
   "source": [
    "df[\"music_genre\"].value_counts()"
   ]
  },
  {
   "cell_type": "code",
   "execution_count": 63,
   "metadata": {
    "colab": {
     "base_uri": "https://localhost:8080/"
    },
    "id": "PtI1sUC3fhSa",
    "outputId": "c635fd9e-a762-4881-8b80-d6240dc3cd36"
   },
   "outputs": [
    {
     "data": {
      "text/plain": [
       "acousticness    float64\n",
       "liveness        float64\n",
       "speechiness     float64\n",
       "valence         float64\n",
       "music_genre       int64\n",
       "dtype: object"
      ]
     },
     "execution_count": 63,
     "metadata": {},
     "output_type": "execute_result"
    }
   ],
   "source": [
    "df.dtypes\n",
    "# all_numeric"
   ]
  },
  {
   "cell_type": "code",
   "execution_count": 64,
   "metadata": {
    "id": "gUhSkb22fsA1"
   },
   "outputs": [],
   "source": [
    "X = df[[\"acousticness\", \"liveness\", \"speechiness\", \"valence\"]].values\n",
    "y = df[\"music_genre\"].values"
   ]
  },
  {
   "cell_type": "code",
   "execution_count": 65,
   "metadata": {
    "id": "U6kFdB__ftIc"
   },
   "outputs": [],
   "source": [
    "X_train, X_test, y_train, y_test = train_test_split(X, y, test_size=0.3, random_state=0)"
   ]
  },
  {
   "cell_type": "code",
   "execution_count": 66,
   "metadata": {
    "id": "6J1n00mEfy-7"
   },
   "outputs": [],
   "source": [
    "# 3d shape\n",
    "X_train = X_train.reshape(X_train.shape[0], X_train.shape[1], 1)\n",
    "X_test = X_test.reshape(X_test.shape[0], X_test.shape[1], 1)"
   ]
  },
  {
   "cell_type": "code",
   "execution_count": 67,
   "metadata": {
    "id": "ffFHJ3A-hNPE"
   },
   "outputs": [],
   "source": [
    "model = Sequential()\n",
    "model.add(Conv1D(filters=64, kernel_size=3, activation=\"relu\", input_shape=(X_train.shape[1], 1)))\n",
    "model.add(MaxPooling1D(pool_size=2))\n",
    "model.add(Flatten())\n",
    "model.add(Dense(128, activation=\"relu\"))\n",
    "model.add(Dropout(0.5))  # regularization\n",
    "model.add(Dense(10, activation=\"softmax\")) # i have 10 classes"
   ]
  },
  {
   "cell_type": "code",
   "execution_count": 68,
   "metadata": {
    "id": "Y4N2cTR7prAy"
   },
   "outputs": [],
   "source": [
    "# sparse_categorical_crossentropy\"s designed for multi-class classification tasks with sparse labels\n",
    "# where each sample is associated with a single class index\n",
    "# default learning rate is 0.001\n",
    "model.compile(loss=\"sparse_categorical_crossentropy\", optimizer=\"adam\", metrics=[\"accuracy\"])"
   ]
  },
  {
   "cell_type": "code",
   "execution_count": 69,
   "metadata": {
    "colab": {
     "base_uri": "https://localhost:8080/"
    },
    "id": "0m2LsXp8qO3c",
    "outputId": "63d0c233-44e9-46c0-9b68-3529ce6bfba4"
   },
   "outputs": [],
   "source": [
    "history = model.fit(X_train, y_train, epochs=100, batch_size=32, validation_split=0.2, verbose = 0)"
   ]
  },
  {
   "cell_type": "code",
   "execution_count": 70,
   "metadata": {
    "colab": {
     "base_uri": "https://localhost:8080/"
    },
    "id": "yGScD0AFgzFF",
    "outputId": "5c9f4176-1c5b-4692-cdae-a7e778eb1833"
   },
   "outputs": [
    {
     "name": "stdout",
     "output_type": "stream",
     "text": [
      "469/469 [==============================] - 0s 797us/step - loss: 1.7999 - accuracy: 0.3261\n",
      "Test Accuracy: 32.61%\n"
     ]
    }
   ],
   "source": [
    "# epoch 10 31.13%\n",
    "# epoch 100 32.81%\n",
    "test_loss, test_accuracy = model.evaluate(X_test, y_test)\n",
    "print(f\"Test Accuracy: {test_accuracy * 100:.2f}%\")"
   ]
  },
  {
   "cell_type": "code",
   "execution_count": 71,
   "metadata": {},
   "outputs": [
    {
     "name": "stdout",
     "output_type": "stream",
     "text": [
      "Learning Rate: 0.0010\n",
      "Number of Hidden Layers: 4\n",
      "Number of Neurons in Each Hidden Layer: [10]\n",
      "Activation Functions: ['relu', 'softmax']\n",
      "Loss Function: sparse_categorical_crossentropy\n",
      "Optimizer: Adam\n",
      "Metrics for Evaluation: ['loss', 'accuracy']\n"
     ]
    }
   ],
   "source": [
    "from my_utils import get_hyperparameters\n",
    "get_hyperparameters(model)"
   ]
  },
  {
   "cell_type": "code",
   "execution_count": 72,
   "metadata": {},
   "outputs": [
    {
     "name": "stdout",
     "output_type": "stream",
     "text": [
      "Training Accuracy: 33.10\n"
     ]
    }
   ],
   "source": [
    "training_accuracy = history.history[\"accuracy\"][-1]\n",
    "print(f\"Training Accuracy: {training_accuracy * 100:.2f}\")"
   ]
  },
  {
   "cell_type": "markdown",
   "metadata": {
    "id": "_ZEk3wL-0D1W"
   },
   "source": [
    "# Data 1 MLP"
   ]
  },
  {
   "cell_type": "code",
   "execution_count": 73,
   "metadata": {
    "id": "dxnou_T51GdP"
   },
   "outputs": [],
   "source": [
    "#MLP is a feedforward neural network that consists of multiple layers of fully connected neurons\n",
    "\n",
    "# One-hot encode music_genre\n",
    "X = df[[\"acousticness\", \"liveness\", \"speechiness\", \"valence\"]].values\n",
    "y = pd.get_dummies(df[\"music_genre\"]).values"
   ]
  },
  {
   "cell_type": "code",
   "execution_count": 74,
   "metadata": {
    "id": "Iv-PI-U71KEW"
   },
   "outputs": [],
   "source": [
    "X_train, X_test, y_train, y_test = train_test_split(X, y, test_size=0.3, random_state=0)"
   ]
  },
  {
   "cell_type": "code",
   "execution_count": 75,
   "metadata": {
    "id": "iMiQkQQv1LiW"
   },
   "outputs": [],
   "source": [
    "# MLP model with L2 regularization with 0.01 strength\n",
    "model = keras.Sequential()\n",
    "model.add(Dense(128, activation=\"relu\", input_shape=(X_train.shape[1],), kernel_regularizer=keras.regularizers.l2(0.01)))\n",
    "model.add(Dense(64, activation=\"relu\", kernel_regularizer=keras.regularizers.l2(0.01)))\n",
    "model.add(Dense(32, activation=\"relu\", kernel_regularizer=keras.regularizers.l2(0.01)))\n",
    "model.add(Dense(10, activation=\"softmax\"))"
   ]
  },
  {
   "cell_type": "code",
   "execution_count": 76,
   "metadata": {
    "id": "8SfbGfKI1n6Z"
   },
   "outputs": [],
   "source": [
    "model.compile(loss=\"categorical_crossentropy\", optimizer=\"adam\", metrics=[\"accuracy\"])"
   ]
  },
  {
   "cell_type": "code",
   "execution_count": 77,
   "metadata": {
    "colab": {
     "base_uri": "https://localhost:8080/"
    },
    "id": "lAjSH8DY1o-N",
    "outputId": "1338f175-ceb4-4e7f-92ec-c4cc872dd1a1"
   },
   "outputs": [],
   "source": [
    "history = model.fit(X_train, y_train, epochs=100, batch_size=32, validation_split=0.2, verbose = 0)"
   ]
  },
  {
   "cell_type": "code",
   "execution_count": 78,
   "metadata": {
    "colab": {
     "base_uri": "https://localhost:8080/"
    },
    "id": "8ZjIpWK71sGd",
    "outputId": "8779776f-cf9d-44a7-cad4-7bf7c176f518"
   },
   "outputs": [
    {
     "name": "stdout",
     "output_type": "stream",
     "text": [
      "469/469 [==============================] - 0s 791us/step - loss: 1.9655 - accuracy: 0.2845\n",
      "Test Accuracy: 28.45%\n"
     ]
    }
   ],
   "source": [
    "# epoch 10 31.89%\n",
    "# epoch 100 32.45%\n",
    "test_loss, test_accuracy = model.evaluate(X_test, y_test)\n",
    "print(f\"Test Accuracy: {test_accuracy * 100:.2f}%\")"
   ]
  },
  {
   "cell_type": "code",
   "execution_count": 79,
   "metadata": {},
   "outputs": [
    {
     "name": "stdout",
     "output_type": "stream",
     "text": [
      "Training Accuracy: 28.87\n"
     ]
    }
   ],
   "source": [
    "training_accuracy = history.history[\"accuracy\"][-1]\n",
    "print(f\"Training Accuracy: {training_accuracy * 100:.2f}\")"
   ]
  },
  {
   "cell_type": "code",
   "execution_count": 80,
   "metadata": {},
   "outputs": [
    {
     "name": "stdout",
     "output_type": "stream",
     "text": [
      "Learning Rate: 0.0010\n",
      "Number of Hidden Layers: 2\n",
      "Number of Neurons in Each Hidden Layer: [64, 32]\n",
      "Activation Functions: ['relu', 'relu', 'relu', 'softmax']\n",
      "Loss Function: categorical_crossentropy\n",
      "Optimizer: Adam\n",
      "Metrics for Evaluation: ['loss', 'accuracy']\n"
     ]
    }
   ],
   "source": [
    "get_hyperparameters(model)"
   ]
  },
  {
   "cell_type": "markdown",
   "metadata": {
    "id": "1CmGG0nq4mTJ"
   },
   "source": [
    "# Data 2 CNN"
   ]
  },
  {
   "cell_type": "code",
   "execution_count": 82,
   "metadata": {
    "colab": {
     "base_uri": "https://localhost:8080/",
     "height": 112
    },
    "id": "MFC0Iqhv4oSm",
    "outputId": "8a4d8008-af9b-4d79-80c7-6ad89e4e714d"
   },
   "outputs": [
    {
     "data": {
      "text/html": [
       "<div>\n",
       "<style scoped>\n",
       "    .dataframe tbody tr th:only-of-type {\n",
       "        vertical-align: middle;\n",
       "    }\n",
       "\n",
       "    .dataframe tbody tr th {\n",
       "        vertical-align: top;\n",
       "    }\n",
       "\n",
       "    .dataframe thead th {\n",
       "        text-align: right;\n",
       "    }\n",
       "</style>\n",
       "<table border=\"1\" class=\"dataframe\">\n",
       "  <thead>\n",
       "    <tr style=\"text-align: right;\">\n",
       "      <th></th>\n",
       "      <th>HighBP</th>\n",
       "      <th>HighChol</th>\n",
       "      <th>CholCheck</th>\n",
       "      <th>BMI</th>\n",
       "      <th>Smoker</th>\n",
       "      <th>Sex</th>\n",
       "      <th>Age</th>\n",
       "      <th>Diabetes_binary</th>\n",
       "    </tr>\n",
       "  </thead>\n",
       "  <tbody>\n",
       "    <tr>\n",
       "      <th>0</th>\n",
       "      <td>1</td>\n",
       "      <td>0</td>\n",
       "      <td>1</td>\n",
       "      <td>26</td>\n",
       "      <td>0</td>\n",
       "      <td>1</td>\n",
       "      <td>4</td>\n",
       "      <td>0</td>\n",
       "    </tr>\n",
       "    <tr>\n",
       "      <th>1</th>\n",
       "      <td>1</td>\n",
       "      <td>1</td>\n",
       "      <td>1</td>\n",
       "      <td>26</td>\n",
       "      <td>1</td>\n",
       "      <td>1</td>\n",
       "      <td>12</td>\n",
       "      <td>0</td>\n",
       "    </tr>\n",
       "  </tbody>\n",
       "</table>\n",
       "</div>"
      ],
      "text/plain": [
       "   HighBP  HighChol  CholCheck  BMI  Smoker  Sex  Age  Diabetes_binary\n",
       "0       1         0          1   26       0    1    4                0\n",
       "1       1         1          1   26       1    1   12                0"
      ]
     },
     "execution_count": 82,
     "metadata": {},
     "output_type": "execute_result"
    }
   ],
   "source": [
    "column_names = [\"HighBP\",\t\"HighChol\",\t\"CholCheck\",\t\"BMI\",\t\"Smoker\",\t\"Sex\",\t\"Age\",\t\"Diabetes_binary\"]\n",
    "df_b = pd.read_csv(\"data/task2/diabetes_binary.csv\", names = column_names)\n",
    "df_b.head(2)"
   ]
  },
  {
   "cell_type": "code",
   "execution_count": 83,
   "metadata": {
    "id": "IXnajuAf6dlh"
   },
   "outputs": [],
   "source": [
    "X = df_b.drop(columns=[\"Diabetes_binary\"]).values\n",
    "y = df_b[\"Diabetes_binary\"].values\n",
    "\n",
    "X_train, X_test, y_train, y_test = train_test_split(X, y, test_size=0.3, random_state=42)\n",
    "\n",
    "# Standardize\n",
    "scaler = StandardScaler()\n",
    "X_train = scaler.fit_transform(X_train)\n",
    "X_test = scaler.transform(X_test)"
   ]
  },
  {
   "cell_type": "code",
   "execution_count": 84,
   "metadata": {
    "colab": {
     "base_uri": "https://localhost:8080/"
    },
    "id": "r60z8_Jv62Nu",
    "outputId": "6294a509-f88e-412a-b8b3-9a79de8848a8"
   },
   "outputs": [
    {
     "data": {
      "text/plain": [
       "(49484, 7)"
      ]
     },
     "execution_count": 84,
     "metadata": {},
     "output_type": "execute_result"
    }
   ],
   "source": [
    "input_shape = X_train.shape[1]\n",
    "X_train.shape"
   ]
  },
  {
   "cell_type": "code",
   "execution_count": 85,
   "metadata": {
    "id": "Etaabktt7Qrd"
   },
   "outputs": [],
   "source": [
    "#CNN\n",
    "cnn_model = Sequential()\n",
    "cnn_model.add(Conv1D(filters=64, kernel_size=3, activation=\"relu\", input_shape=(input_shape, 1)))\n",
    "cnn_model.add(MaxPooling1D(pool_size=2))\n",
    "cnn_model.add(Flatten())\n",
    "cnn_model.add(Dense(128, activation=\"relu\"))\n",
    "model.add(Dropout(0.5))  # regularization\n",
    "cnn_model.add(Dense(1, activation=\"sigmoid\"))"
   ]
  },
  {
   "cell_type": "code",
   "execution_count": 86,
   "metadata": {
    "id": "z8DPm09D7TBU"
   },
   "outputs": [],
   "source": [
    "# binary classification\n",
    "cnn_model.compile(loss=\"binary_crossentropy\", optimizer=\"adam\", metrics=[\"accuracy\"])"
   ]
  },
  {
   "cell_type": "code",
   "execution_count": 87,
   "metadata": {
    "colab": {
     "base_uri": "https://localhost:8080/"
    },
    "id": "Qfe0_Ssg7aPV",
    "outputId": "aaefd73e-9126-4d42-8fe6-8e8528dd9912"
   },
   "outputs": [],
   "source": [
    "# changing to 3d data format instead of convertng separately\n",
    "history = cnn_model.fit(X_train[:, :, np.newaxis], y_train, epochs=100, batch_size=32, validation_split=0.2, verbose = 0)"
   ]
  },
  {
   "cell_type": "code",
   "execution_count": 88,
   "metadata": {
    "colab": {
     "base_uri": "https://localhost:8080/"
    },
    "id": "pXDE25Ip7hLW",
    "outputId": "4ab8ea35-7008-43a0-f44c-98de72af2140"
   },
   "outputs": [
    {
     "name": "stdout",
     "output_type": "stream",
     "text": [
      "663/663 [==============================] - 1s 806us/step - loss: 0.5645 - accuracy: 0.7085\n",
      "CNN Test Accuracy: 70.85%\n"
     ]
    }
   ],
   "source": [
    "# epoch 10 70.97\n",
    "# epoch 100 70.81\n",
    "cnn_test_loss, cnn_test_accuracy = cnn_model.evaluate(X_test[:, :, np.newaxis], y_test)\n",
    "print(f\"CNN Test Accuracy: {cnn_test_accuracy * 100:.2f}%\")"
   ]
  },
  {
   "cell_type": "code",
   "execution_count": 89,
   "metadata": {},
   "outputs": [
    {
     "name": "stdout",
     "output_type": "stream",
     "text": [
      "Training Accuracy: 71.11\n"
     ]
    }
   ],
   "source": [
    "training_accuracy = history.history[\"accuracy\"][-1]\n",
    "print(f\"Training Accuracy: {training_accuracy * 100:.2f}\")"
   ]
  },
  {
   "cell_type": "code",
   "execution_count": 90,
   "metadata": {},
   "outputs": [
    {
     "name": "stdout",
     "output_type": "stream",
     "text": [
      "Learning Rate: 0.0010\n",
      "Number of Hidden Layers: 3\n",
      "Number of Neurons in Each Hidden Layer: [1]\n",
      "Activation Functions: ['relu', 'sigmoid']\n",
      "Loss Function: binary_crossentropy\n",
      "Optimizer: Adam\n",
      "Metrics for Evaluation: ['loss', 'accuracy']\n"
     ]
    }
   ],
   "source": [
    "get_hyperparameters(cnn_model)"
   ]
  },
  {
   "cell_type": "markdown",
   "metadata": {
    "id": "ligmlJ5r8dlh"
   },
   "source": [
    "# Data 2 MLP"
   ]
  },
  {
   "cell_type": "code",
   "execution_count": 91,
   "metadata": {
    "id": "4mdnW65m8itk"
   },
   "outputs": [],
   "source": [
    "mlp_model = Sequential()\n",
    "mlp_model.add(Dense(128, activation=\"relu\", input_shape=(input_shape,), kernel_regularizer=l2(0.01)))\n",
    "mlp_model.add(Dense(64, activation=\"relu\", kernel_regularizer=l2(0.01)))\n",
    "mlp_model.add(Dense(32, activation=\"relu\", kernel_regularizer=l2(0.01)))\n",
    "mlp_model.add(Dense(1, activation=\"sigmoid\"))"
   ]
  },
  {
   "cell_type": "code",
   "execution_count": 92,
   "metadata": {
    "id": "L3L6WXic8mG0"
   },
   "outputs": [],
   "source": [
    "mlp_model.compile(loss=\"binary_crossentropy\", optimizer=\"adam\", metrics=[\"accuracy\"])"
   ]
  },
  {
   "cell_type": "code",
   "execution_count": 93,
   "metadata": {
    "colab": {
     "base_uri": "https://localhost:8080/"
    },
    "id": "bGeOW6sO8n5k",
    "outputId": "193d4cff-3596-4677-b1b0-5cb0399a3056"
   },
   "outputs": [],
   "source": [
    "history = mlp_model.fit(X_train, y_train, epochs=100, batch_size=32, validation_split=0.2, verbose = 0)"
   ]
  },
  {
   "cell_type": "code",
   "execution_count": 94,
   "metadata": {
    "colab": {
     "base_uri": "https://localhost:8080/"
    },
    "id": "qTMQf68M8p-8",
    "outputId": "dc2faf03-dea6-4462-d945-398fb9d843e1"
   },
   "outputs": [
    {
     "name": "stdout",
     "output_type": "stream",
     "text": [
      "663/663 [==============================] - 1s 795us/step - loss: 0.5528 - accuracy: 0.7231\n",
      "MLP Test Accuracy: 72.31%\n"
     ]
    }
   ],
   "source": [
    "# epoch 10 72.42\n",
    "# epoch 100 72.20\n",
    "mlp_test_loss, mlp_test_accuracy = mlp_model.evaluate(X_test, y_test)\n",
    "print(f\"MLP Test Accuracy: {mlp_test_accuracy * 100:.2f}%\")"
   ]
  },
  {
   "cell_type": "code",
   "execution_count": 95,
   "metadata": {
    "colab": {
     "base_uri": "https://localhost:8080/",
     "height": 472
    },
    "id": "RBRKSTT1EvNG",
    "outputId": "48d5a728-6db3-4235-acff-dbc9e79aaa80"
   },
   "outputs": [
    {
     "name": "stdout",
     "output_type": "stream",
     "text": [
      "Training Accuracy: 71.11\n"
     ]
    }
   ],
   "source": [
    "trainin_accuracy = history.history[\"accuracy\"][-1]\n",
    "print(f\"Training Accuracy: {training_accuracy * 100:.2f}\")"
   ]
  },
  {
   "cell_type": "code",
   "execution_count": 96,
   "metadata": {},
   "outputs": [
    {
     "name": "stdout",
     "output_type": "stream",
     "text": [
      "Learning Rate: 0.0010\n",
      "Number of Hidden Layers: 2\n",
      "Number of Neurons in Each Hidden Layer: [64, 32]\n",
      "Activation Functions: ['relu', 'relu', 'relu', 'sigmoid']\n",
      "Loss Function: binary_crossentropy\n",
      "Optimizer: Adam\n",
      "Metrics for Evaluation: ['loss', 'accuracy']\n"
     ]
    }
   ],
   "source": [
    "get_hyperparameters(mlp_model)"
   ]
  }
 ],
 "metadata": {
  "accelerator": "GPU",
  "colab": {
   "gpuType": "T4",
   "provenance": []
  },
  "kernelspec": {
   "display_name": "Python 3 (ipykernel)",
   "language": "python",
   "name": "python3"
  },
  "language_info": {
   "codemirror_mode": {
    "name": "ipython",
    "version": 3
   },
   "file_extension": ".py",
   "mimetype": "text/x-python",
   "name": "python",
   "nbconvert_exporter": "python",
   "pygments_lexer": "ipython3",
   "version": "3.10.8"
  }
 },
 "nbformat": 4,
 "nbformat_minor": 4
}
