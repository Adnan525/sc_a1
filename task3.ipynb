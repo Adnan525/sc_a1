{
 "cells": [
  {
   "cell_type": "code",
   "execution_count": 6,
   "id": "3cb36ecb",
   "metadata": {},
   "outputs": [],
   "source": [
    "import warnings\n",
    "warnings.filterwarnings(\"ignore\")"
   ]
  },
  {
   "cell_type": "code",
   "execution_count": 7,
   "id": "68e272ce",
   "metadata": {},
   "outputs": [],
   "source": [
    "import torch\n",
    "import torch.nn as nn\n",
    "import torch.optim as optim\n",
    "from torch.optim import lr_scheduler\n",
    "from torchvision import datasets, transforms, models\n",
    "import os"
   ]
  },
  {
   "cell_type": "code",
   "execution_count": 8,
   "id": "76776170",
   "metadata": {},
   "outputs": [],
   "source": [
    "device = torch.device(\"cuda:0\" if torch.cuda.is_available() else \"cpu\")"
   ]
  },
  {
   "cell_type": "code",
   "execution_count": 9,
   "id": "e7be1f19",
   "metadata": {},
   "outputs": [
    {
     "data": {
      "text/plain": [
       "device(type='cuda', index=0)"
      ]
     },
     "execution_count": 9,
     "metadata": {},
     "output_type": "execute_result"
    }
   ],
   "source": [
    "device"
   ]
  },
  {
   "cell_type": "code",
   "execution_count": 10,
   "id": "f58de7ab",
   "metadata": {},
   "outputs": [],
   "source": [
    "# loading data\n",
    "data_transforms = {\n",
    "    \"train\": transforms.Compose([\n",
    "        transforms.RandomResizedCrop(224),\n",
    "        transforms.RandomHorizontalFlip(),\n",
    "        transforms.ToTensor(),\n",
    "        transforms.Normalize([0.485, 0.456, 0.406], [0.229, 0.224, 0.225])\n",
    "    ]),\n",
    "    \"test\": transforms.Compose([\n",
    "        transforms.Resize(256),\n",
    "        transforms.CenterCrop(224),\n",
    "        transforms.ToTensor(),\n",
    "        transforms.Normalize([0.485, 0.456, 0.406], [0.229, 0.224, 0.225])\n",
    "    ]),\n",
    "}\n",
    "\n",
    "data_dir = \"data/task3/ChestXray\"\n",
    "image_datasets = {x: datasets.ImageFolder(os.path.join(data_dir, x), data_transforms[x]) for x in [\"train\", \"test\"]}\n",
    "dataloaders = {x: torch.utils.data.DataLoader(image_datasets[x], batch_size=4, shuffle=True, num_workers=4) for x in [\"train\", \"test\"]}\n",
    "dataset_sizes = {x: len(image_datasets[x]) for x in [\"train\", \"test\"]}\n",
    "class_names = image_datasets[\"train\"].classes\n"
   ]
  },
  {
   "cell_type": "code",
   "execution_count": 11,
   "id": "2ec0459a",
   "metadata": {},
   "outputs": [],
   "source": [
    "model = models.resnet50(pretrained=True)\n",
    "num_ftrs = model.fc.in_features\n",
    "model.fc = nn.Linear(num_ftrs, 2) # 2 classes\n",
    "model = model.to(device)"
   ]
  },
  {
   "cell_type": "code",
   "execution_count": 12,
   "id": "f77418f0",
   "metadata": {},
   "outputs": [],
   "source": [
    "criterion = nn.CrossEntropyLoss()\n",
    "# doing stochastic gradient descent\n",
    "optimizer = optim.SGD(model.parameters(), lr=0.001, momentum=0.9)\n",
    "scheduler = lr_scheduler.StepLR(optimizer, step_size=7, gamma=0.1)\n"
   ]
  },
  {
   "cell_type": "code",
   "execution_count": 13,
   "id": "86dbd580",
   "metadata": {},
   "outputs": [
    {
     "name": "stdout",
     "output_type": "stream",
     "text": [
      "Epoch 0/9\n",
      "----------\n",
      "train Loss: 0.3858 Acc: 0.8409\n",
      "test Loss: 0.2425 Acc: 0.9071\n",
      "Epoch 1/9\n",
      "----------\n",
      "train Loss: 0.2813 Acc: 0.8903\n",
      "test Loss: 0.5860 Acc: 0.8926\n",
      "Epoch 2/9\n",
      "----------\n",
      "train Loss: 0.2713 Acc: 0.9001\n",
      "test Loss: 0.6188 Acc: 0.8830\n",
      "Epoch 3/9\n",
      "----------\n",
      "train Loss: 0.2012 Acc: 0.9279\n",
      "test Loss: 0.2786 Acc: 0.8878\n",
      "Epoch 4/9\n",
      "----------\n",
      "train Loss: 0.1936 Acc: 0.9283\n",
      "test Loss: 0.2053 Acc: 0.9327\n",
      "Epoch 5/9\n",
      "----------\n",
      "train Loss: 0.1855 Acc: 0.9342\n",
      "test Loss: 0.2868 Acc: 0.9151\n",
      "Epoch 6/9\n",
      "----------\n",
      "train Loss: 0.1744 Acc: 0.9379\n",
      "test Loss: 0.2098 Acc: 0.9279\n",
      "Epoch 7/9\n",
      "----------\n",
      "train Loss: 0.1386 Acc: 0.9467\n",
      "test Loss: 0.2178 Acc: 0.9327\n",
      "Epoch 8/9\n",
      "----------\n",
      "train Loss: 0.1190 Acc: 0.9567\n",
      "test Loss: 0.2082 Acc: 0.9359\n",
      "Epoch 9/9\n",
      "----------\n",
      "train Loss: 0.1105 Acc: 0.9603\n",
      "test Loss: 0.2351 Acc: 0.9375\n"
     ]
    }
   ],
   "source": [
    "# training loop\n",
    "# forward pass\n",
    "# loss\n",
    "# backward pass\n",
    "# tuning\n",
    "def train_model(model, criterion, optimizer, scheduler, num_epochs=25):\n",
    "    for epoch in range(num_epochs):\n",
    "        print(f\"Epoch {epoch}/{num_epochs - 1}\")\n",
    "        print(\"-\" * 10)\n",
    "\n",
    "        for phase in [\"train\", \"test\"]:\n",
    "            if phase == \"train\":\n",
    "                model.train()\n",
    "            else:\n",
    "                model.eval()\n",
    "\n",
    "            running_loss = 0.0\n",
    "            running_corrects = 0\n",
    "\n",
    "            for inputs, labels in dataloaders[phase]:\n",
    "                inputs = inputs.to(device)\n",
    "                labels = labels.to(device)\n",
    "\n",
    "                optimizer.zero_grad()\n",
    "\n",
    "                with torch.set_grad_enabled(phase == \"train\"):\n",
    "                    outputs = model(inputs)\n",
    "                    _, preds = torch.max(outputs, 1)\n",
    "                    loss = criterion(outputs, labels)\n",
    "\n",
    "                    if phase == \"train\":\n",
    "                        loss.backward()\n",
    "                        optimizer.step()\n",
    "\n",
    "                running_loss += loss.item() * inputs.size(0)\n",
    "                running_corrects += torch.sum(preds == labels.data)\n",
    "\n",
    "            if phase == \"train\":\n",
    "                scheduler.step()\n",
    "\n",
    "            epoch_loss = running_loss / dataset_sizes[phase]\n",
    "            epoch_acc = running_corrects.double() / dataset_sizes[phase]\n",
    "\n",
    "            print(f\"{phase} Loss: {epoch_loss:.4f} Acc: {epoch_acc:.4f}\")\n",
    "\n",
    "    return model\n",
    "\n",
    "model = train_model(model, criterion, optimizer, scheduler, num_epochs=10)\n"
   ]
  },
  {
   "cell_type": "code",
   "execution_count": 14,
   "id": "90cbe03b",
   "metadata": {},
   "outputs": [],
   "source": [
    "torch.save(model.state_dict(), \"resnet50_chest_xray.pth\")\n"
   ]
  },
  {
   "cell_type": "code",
   "execution_count": 15,
   "id": "d7cd897b",
   "metadata": {},
   "outputs": [
    {
     "name": "stdout",
     "output_type": "stream",
     "text": [
      "Test Accuracy: 0.9375\n"
     ]
    }
   ],
   "source": [
    "# testing from test folder\n",
    "def test_model(model, dataloader):\n",
    "    model.eval()\n",
    "    correct = 0\n",
    "    total = 0\n",
    "\n",
    "    with torch.no_grad():\n",
    "        for inputs, labels in dataloader:\n",
    "            inputs = inputs.to(device)\n",
    "            labels = labels.to(device)\n",
    "\n",
    "            outputs = model(inputs)\n",
    "            _, predicted = torch.max(outputs, 1)\n",
    "\n",
    "            total += labels.size(0)\n",
    "            correct += (predicted == labels).sum().item()\n",
    "\n",
    "    accuracy = correct / total\n",
    "    return accuracy\n",
    "\n",
    "test_accuracy = test_model(model, dataloaders['test'])\n",
    "print(f'Test Accuracy: {test_accuracy:.4f}')"
   ]
  },
  {
   "cell_type": "code",
   "execution_count": 16,
   "id": "c0f891fe",
   "metadata": {},
   "outputs": [
    {
     "name": "stderr",
     "output_type": "stream",
     "text": [
      "Downloading: \"https://download.pytorch.org/models/alexnet-owt-7be5be79.pth\" to C:\\Users\\adnaa/.cache\\torch\\hub\\checkpoints\\alexnet-owt-7be5be79.pth\n",
      "100%|██████████| 233M/233M [00:17<00:00, 13.6MB/s] \n"
     ]
    },
    {
     "name": "stdout",
     "output_type": "stream",
     "text": [
      "Epoch 0/9\n",
      "----------\n",
      "train Loss: 0.3909 Acc: 0.8234\n",
      "test Loss: 0.4356 Acc: 0.7901\n",
      "Epoch 1/9\n",
      "----------\n",
      "train Loss: 0.2993 Acc: 0.8794\n",
      "test Loss: 0.3495 Acc: 0.8670\n",
      "Epoch 2/9\n",
      "----------\n",
      "train Loss: 0.2488 Acc: 0.8953\n",
      "test Loss: 0.4142 Acc: 0.8478\n",
      "Epoch 3/9\n",
      "----------\n",
      "train Loss: 0.2441 Acc: 0.9049\n",
      "test Loss: 0.2783 Acc: 0.9119\n",
      "Epoch 4/9\n",
      "----------\n",
      "train Loss: 0.2255 Acc: 0.9089\n",
      "test Loss: 0.2182 Acc: 0.9183\n",
      "Epoch 5/9\n",
      "----------\n",
      "train Loss: 0.2145 Acc: 0.9172\n",
      "test Loss: 0.2608 Acc: 0.9215\n",
      "Epoch 6/9\n",
      "----------\n",
      "train Loss: 0.2037 Acc: 0.9185\n",
      "test Loss: 0.2891 Acc: 0.8974\n",
      "Epoch 7/9\n",
      "----------\n",
      "train Loss: 0.1486 Acc: 0.9413\n",
      "test Loss: 0.2084 Acc: 0.9327\n",
      "Epoch 8/9\n",
      "----------\n",
      "train Loss: 0.1542 Acc: 0.9385\n",
      "test Loss: 0.2024 Acc: 0.9279\n",
      "Epoch 9/9\n",
      "----------\n",
      "train Loss: 0.1439 Acc: 0.9436\n",
      "test Loss: 0.1802 Acc: 0.9391\n"
     ]
    }
   ],
   "source": [
    "from torchvision import models\n",
    "\n",
    "# alexnet\n",
    "alexnet_model = models.alexnet(pretrained=True)\n",
    "\n",
    "# output class modify\n",
    "num_features = alexnet_model.classifier[6].in_features\n",
    "alexnet_model.classifier[6] = nn.Linear(num_features, 2)\n",
    "\n",
    "# to device\n",
    "alexnet_model = alexnet_model.to(device)\n",
    "\n",
    "alexnet_optimizer = optim.SGD(alexnet_model.parameters(), lr=0.001, momentum=0.9)\n",
    "alexnet_scheduler = lr_scheduler.StepLR(alexnet_optimizer, step_size=7, gamma=0.1)\n",
    "\n",
    "# using same train loop\n",
    "alexnet_model = train_model(alexnet_model, criterion, alexnet_optimizer, alexnet_scheduler, num_epochs=10)\n",
    "\n",
    "torch.save(alexnet_model.state_dict(), \"alexnet_chest_xray.pth\")\n"
   ]
  },
  {
   "cell_type": "code",
   "execution_count": 17,
   "id": "9ff54a30",
   "metadata": {},
   "outputs": [
    {
     "name": "stdout",
     "output_type": "stream",
     "text": [
      "Test Accuracy: 0.9391\n"
     ]
    }
   ],
   "source": [
    "# using same test\n",
    "def test_model(model, dataloader):\n",
    "    model.eval()\n",
    "    correct = 0\n",
    "    total = 0\n",
    "\n",
    "    with torch.no_grad():\n",
    "        for inputs, labels in dataloader:\n",
    "            inputs = inputs.to(device)\n",
    "            labels = labels.to(device)\n",
    "\n",
    "            outputs = model(inputs)\n",
    "            _, predicted = torch.max(outputs, 1)\n",
    "\n",
    "            total += labels.size(0)\n",
    "            correct += (predicted == labels).sum().item()\n",
    "\n",
    "    accuracy = correct / total\n",
    "    return accuracy\n",
    "\n",
    "test_accuracy = test_model(alexnet_model, dataloaders['test'])\n",
    "print(f'Test Accuracy: {test_accuracy:.4f}')\n"
   ]
  }
 ],
 "metadata": {
  "kernelspec": {
   "display_name": "Python 3 (ipykernel)",
   "language": "python",
   "name": "python3"
  },
  "language_info": {
   "codemirror_mode": {
    "name": "ipython",
    "version": 3
   },
   "file_extension": ".py",
   "mimetype": "text/x-python",
   "name": "python",
   "nbconvert_exporter": "python",
   "pygments_lexer": "ipython3",
   "version": "3.11.4"
  }
 },
 "nbformat": 4,
 "nbformat_minor": 5
}
